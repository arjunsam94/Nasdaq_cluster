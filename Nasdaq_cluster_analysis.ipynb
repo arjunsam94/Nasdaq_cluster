{
 "cells": [
  {
   "cell_type": "markdown",
   "metadata": {
    "id": "KjJSC98Zy7Te"
   },
   "source": [
    "# Section A"
   ]
  },
  {
   "cell_type": "code",
   "execution_count": 42,
   "metadata": {
    "id": "dD0MSQHdgmNZ"
   },
   "outputs": [],
   "source": [
    "import pandas as pd\n",
    "import numpy as np"
   ]
  },
  {
   "cell_type": "code",
   "execution_count": 43,
   "metadata": {
    "colab": {
     "base_uri": "https://localhost:8080/",
     "height": 325
    },
    "id": "wWp57knNgv0k",
    "outputId": "d1ac8d41-2d42-4c24-c15d-92c616ed96d3"
   },
   "outputs": [
    {
     "data": {
      "text/html": [
       "\n",
       "  <div id=\"df-b1052c98-b681-478d-a5ab-28b33e062c43\" class=\"colab-df-container\">\n",
       "    <div>\n",
       "<style scoped>\n",
       "    .dataframe tbody tr th:only-of-type {\n",
       "        vertical-align: middle;\n",
       "    }\n",
       "\n",
       "    .dataframe tbody tr th {\n",
       "        vertical-align: top;\n",
       "    }\n",
       "\n",
       "    .dataframe thead th {\n",
       "        text-align: right;\n",
       "    }\n",
       "</style>\n",
       "<table border=\"1\" class=\"dataframe\">\n",
       "  <thead>\n",
       "    <tr style=\"text-align: right;\">\n",
       "      <th></th>\n",
       "      <th>StockSymbol</th>\n",
       "      <th>Industry</th>\n",
       "      <th>SubIndustry</th>\n",
       "      <th>Ret2000.01</th>\n",
       "      <th>Ret2000.02</th>\n",
       "      <th>Ret2000.03</th>\n",
       "      <th>Ret2000.04</th>\n",
       "      <th>Ret2000.05</th>\n",
       "      <th>Ret2000.06</th>\n",
       "      <th>ret2000.07</th>\n",
       "      <th>...</th>\n",
       "      <th>Ret2009.03</th>\n",
       "      <th>Ret2009.04</th>\n",
       "      <th>Ret2009.05</th>\n",
       "      <th>Ret2009.06</th>\n",
       "      <th>Ret2009.07</th>\n",
       "      <th>Ret2009.08</th>\n",
       "      <th>Ret2009.09</th>\n",
       "      <th>Ret2009.10</th>\n",
       "      <th>Ret2009.11</th>\n",
       "      <th>Ret2009.12</th>\n",
       "    </tr>\n",
       "  </thead>\n",
       "  <tbody>\n",
       "    <tr>\n",
       "      <th>0</th>\n",
       "      <td>AAON</td>\n",
       "      <td>Industrial Goods</td>\n",
       "      <td>General Building Materials</td>\n",
       "      <td>0.080678</td>\n",
       "      <td>0.066250</td>\n",
       "      <td>0.032941</td>\n",
       "      <td>0.183099</td>\n",
       "      <td>0.130334</td>\n",
       "      <td>-0.017642</td>\n",
       "      <td>-0.020517</td>\n",
       "      <td>...</td>\n",
       "      <td>0.185088</td>\n",
       "      <td>0.100565</td>\n",
       "      <td>0.067762</td>\n",
       "      <td>-0.045062</td>\n",
       "      <td>-0.025832</td>\n",
       "      <td>0.060976</td>\n",
       "      <td>-0.039234</td>\n",
       "      <td>-0.101297</td>\n",
       "      <td>0.041804</td>\n",
       "      <td>0.019885</td>\n",
       "    </tr>\n",
       "    <tr>\n",
       "      <th>1</th>\n",
       "      <td>AAPL</td>\n",
       "      <td>Consumer Goods</td>\n",
       "      <td>Electronic Equipment</td>\n",
       "      <td>-0.010680</td>\n",
       "      <td>0.102115</td>\n",
       "      <td>0.145496</td>\n",
       "      <td>-0.084428</td>\n",
       "      <td>-0.327300</td>\n",
       "      <td>-0.359266</td>\n",
       "      <td>-0.025321</td>\n",
       "      <td>...</td>\n",
       "      <td>0.192919</td>\n",
       "      <td>0.208858</td>\n",
       "      <td>0.079571</td>\n",
       "      <td>0.043673</td>\n",
       "      <td>0.138606</td>\n",
       "      <td>0.018159</td>\n",
       "      <td>0.103339</td>\n",
       "      <td>0.016995</td>\n",
       "      <td>0.053267</td>\n",
       "      <td>0.041980</td>\n",
       "    </tr>\n",
       "    <tr>\n",
       "      <th>2</th>\n",
       "      <td>ABAX</td>\n",
       "      <td>Healthcare</td>\n",
       "      <td>Diagnostic Substances</td>\n",
       "      <td>0.047742</td>\n",
       "      <td>0.035990</td>\n",
       "      <td>0.039702</td>\n",
       "      <td>-0.162353</td>\n",
       "      <td>-0.147427</td>\n",
       "      <td>0.048589</td>\n",
       "      <td>-0.135385</td>\n",
       "      <td>...</td>\n",
       "      <td>0.111541</td>\n",
       "      <td>-0.119907</td>\n",
       "      <td>0.162126</td>\n",
       "      <td>0.161108</td>\n",
       "      <td>0.304581</td>\n",
       "      <td>0.001883</td>\n",
       "      <td>0.014026</td>\n",
       "      <td>-0.141783</td>\n",
       "      <td>-0.024740</td>\n",
       "      <td>0.134043</td>\n",
       "    </tr>\n",
       "    <tr>\n",
       "      <th>3</th>\n",
       "      <td>ABCB</td>\n",
       "      <td>Financial</td>\n",
       "      <td>Regional</td>\n",
       "      <td>-0.074040</td>\n",
       "      <td>-0.048170</td>\n",
       "      <td>0.018219</td>\n",
       "      <td>-0.024679</td>\n",
       "      <td>-0.006036</td>\n",
       "      <td>-0.025304</td>\n",
       "      <td>-0.094000</td>\n",
       "      <td>...</td>\n",
       "      <td>-0.024845</td>\n",
       "      <td>0.402570</td>\n",
       "      <td>-0.039816</td>\n",
       "      <td>-0.020155</td>\n",
       "      <td>0.004651</td>\n",
       "      <td>0.007812</td>\n",
       "      <td>0.122449</td>\n",
       "      <td>-0.170423</td>\n",
       "      <td>0.105351</td>\n",
       "      <td>0.062315</td>\n",
       "    </tr>\n",
       "    <tr>\n",
       "      <th>4</th>\n",
       "      <td>ABFS</td>\n",
       "      <td>Services</td>\n",
       "      <td>Trucking</td>\n",
       "      <td>-0.031046</td>\n",
       "      <td>-0.212677</td>\n",
       "      <td>0.091476</td>\n",
       "      <td>0.189338</td>\n",
       "      <td>-0.153846</td>\n",
       "      <td>-0.106115</td>\n",
       "      <td>0.355301</td>\n",
       "      <td>...</td>\n",
       "      <td>0.113583</td>\n",
       "      <td>0.227007</td>\n",
       "      <td>0.216357</td>\n",
       "      <td>-0.075114</td>\n",
       "      <td>0.069471</td>\n",
       "      <td>0.112273</td>\n",
       "      <td>-0.052831</td>\n",
       "      <td>-0.127703</td>\n",
       "      <td>-0.047582</td>\n",
       "      <td>0.191981</td>\n",
       "    </tr>\n",
       "  </tbody>\n",
       "</table>\n",
       "<p>5 rows × 123 columns</p>\n",
       "</div>\n",
       "    <div class=\"colab-df-buttons\">\n",
       "\n",
       "  <div class=\"colab-df-container\">\n",
       "    <button class=\"colab-df-convert\" onclick=\"convertToInteractive('df-b1052c98-b681-478d-a5ab-28b33e062c43')\"\n",
       "            title=\"Convert this dataframe to an interactive table.\"\n",
       "            style=\"display:none;\">\n",
       "\n",
       "  <svg xmlns=\"http://www.w3.org/2000/svg\" height=\"24px\" viewBox=\"0 -960 960 960\">\n",
       "    <path d=\"M120-120v-720h720v720H120Zm60-500h600v-160H180v160Zm220 220h160v-160H400v160Zm0 220h160v-160H400v160ZM180-400h160v-160H180v160Zm440 0h160v-160H620v160ZM180-180h160v-160H180v160Zm440 0h160v-160H620v160Z\"/>\n",
       "  </svg>\n",
       "    </button>\n",
       "\n",
       "  <style>\n",
       "    .colab-df-container {\n",
       "      display:flex;\n",
       "      gap: 12px;\n",
       "    }\n",
       "\n",
       "    .colab-df-convert {\n",
       "      background-color: #E8F0FE;\n",
       "      border: none;\n",
       "      border-radius: 50%;\n",
       "      cursor: pointer;\n",
       "      display: none;\n",
       "      fill: #1967D2;\n",
       "      height: 32px;\n",
       "      padding: 0 0 0 0;\n",
       "      width: 32px;\n",
       "    }\n",
       "\n",
       "    .colab-df-convert:hover {\n",
       "      background-color: #E2EBFA;\n",
       "      box-shadow: 0px 1px 2px rgba(60, 64, 67, 0.3), 0px 1px 3px 1px rgba(60, 64, 67, 0.15);\n",
       "      fill: #174EA6;\n",
       "    }\n",
       "\n",
       "    .colab-df-buttons div {\n",
       "      margin-bottom: 4px;\n",
       "    }\n",
       "\n",
       "    [theme=dark] .colab-df-convert {\n",
       "      background-color: #3B4455;\n",
       "      fill: #D2E3FC;\n",
       "    }\n",
       "\n",
       "    [theme=dark] .colab-df-convert:hover {\n",
       "      background-color: #434B5C;\n",
       "      box-shadow: 0px 1px 3px 1px rgba(0, 0, 0, 0.15);\n",
       "      filter: drop-shadow(0px 1px 2px rgba(0, 0, 0, 0.3));\n",
       "      fill: #FFFFFF;\n",
       "    }\n",
       "  </style>\n",
       "\n",
       "    <script>\n",
       "      const buttonEl =\n",
       "        document.querySelector('#df-b1052c98-b681-478d-a5ab-28b33e062c43 button.colab-df-convert');\n",
       "      buttonEl.style.display =\n",
       "        google.colab.kernel.accessAllowed ? 'block' : 'none';\n",
       "\n",
       "      async function convertToInteractive(key) {\n",
       "        const element = document.querySelector('#df-b1052c98-b681-478d-a5ab-28b33e062c43');\n",
       "        const dataTable =\n",
       "          await google.colab.kernel.invokeFunction('convertToInteractive',\n",
       "                                                    [key], {});\n",
       "        if (!dataTable) return;\n",
       "\n",
       "        const docLinkHtml = 'Like what you see? Visit the ' +\n",
       "          '<a target=\"_blank\" href=https://colab.research.google.com/notebooks/data_table.ipynb>data table notebook</a>'\n",
       "          + ' to learn more about interactive tables.';\n",
       "        element.innerHTML = '';\n",
       "        dataTable['output_type'] = 'display_data';\n",
       "        await google.colab.output.renderOutput(dataTable, element);\n",
       "        const docLink = document.createElement('div');\n",
       "        docLink.innerHTML = docLinkHtml;\n",
       "        element.appendChild(docLink);\n",
       "      }\n",
       "    </script>\n",
       "  </div>\n",
       "\n",
       "\n",
       "<div id=\"df-b45e286e-9ec3-4511-878e-812cfa0b3996\">\n",
       "  <button class=\"colab-df-quickchart\" onclick=\"quickchart('df-b45e286e-9ec3-4511-878e-812cfa0b3996')\"\n",
       "            title=\"Suggest charts\"\n",
       "            style=\"display:none;\">\n",
       "\n",
       "<svg xmlns=\"http://www.w3.org/2000/svg\" height=\"24px\"viewBox=\"0 0 24 24\"\n",
       "     width=\"24px\">\n",
       "    <g>\n",
       "        <path d=\"M19 3H5c-1.1 0-2 .9-2 2v14c0 1.1.9 2 2 2h14c1.1 0 2-.9 2-2V5c0-1.1-.9-2-2-2zM9 17H7v-7h2v7zm4 0h-2V7h2v10zm4 0h-2v-4h2v4z\"/>\n",
       "    </g>\n",
       "</svg>\n",
       "  </button>\n",
       "\n",
       "<style>\n",
       "  .colab-df-quickchart {\n",
       "      --bg-color: #E8F0FE;\n",
       "      --fill-color: #1967D2;\n",
       "      --hover-bg-color: #E2EBFA;\n",
       "      --hover-fill-color: #174EA6;\n",
       "      --disabled-fill-color: #AAA;\n",
       "      --disabled-bg-color: #DDD;\n",
       "  }\n",
       "\n",
       "  [theme=dark] .colab-df-quickchart {\n",
       "      --bg-color: #3B4455;\n",
       "      --fill-color: #D2E3FC;\n",
       "      --hover-bg-color: #434B5C;\n",
       "      --hover-fill-color: #FFFFFF;\n",
       "      --disabled-bg-color: #3B4455;\n",
       "      --disabled-fill-color: #666;\n",
       "  }\n",
       "\n",
       "  .colab-df-quickchart {\n",
       "    background-color: var(--bg-color);\n",
       "    border: none;\n",
       "    border-radius: 50%;\n",
       "    cursor: pointer;\n",
       "    display: none;\n",
       "    fill: var(--fill-color);\n",
       "    height: 32px;\n",
       "    padding: 0;\n",
       "    width: 32px;\n",
       "  }\n",
       "\n",
       "  .colab-df-quickchart:hover {\n",
       "    background-color: var(--hover-bg-color);\n",
       "    box-shadow: 0 1px 2px rgba(60, 64, 67, 0.3), 0 1px 3px 1px rgba(60, 64, 67, 0.15);\n",
       "    fill: var(--button-hover-fill-color);\n",
       "  }\n",
       "\n",
       "  .colab-df-quickchart-complete:disabled,\n",
       "  .colab-df-quickchart-complete:disabled:hover {\n",
       "    background-color: var(--disabled-bg-color);\n",
       "    fill: var(--disabled-fill-color);\n",
       "    box-shadow: none;\n",
       "  }\n",
       "\n",
       "  .colab-df-spinner {\n",
       "    border: 2px solid var(--fill-color);\n",
       "    border-color: transparent;\n",
       "    border-bottom-color: var(--fill-color);\n",
       "    animation:\n",
       "      spin 1s steps(1) infinite;\n",
       "  }\n",
       "\n",
       "  @keyframes spin {\n",
       "    0% {\n",
       "      border-color: transparent;\n",
       "      border-bottom-color: var(--fill-color);\n",
       "      border-left-color: var(--fill-color);\n",
       "    }\n",
       "    20% {\n",
       "      border-color: transparent;\n",
       "      border-left-color: var(--fill-color);\n",
       "      border-top-color: var(--fill-color);\n",
       "    }\n",
       "    30% {\n",
       "      border-color: transparent;\n",
       "      border-left-color: var(--fill-color);\n",
       "      border-top-color: var(--fill-color);\n",
       "      border-right-color: var(--fill-color);\n",
       "    }\n",
       "    40% {\n",
       "      border-color: transparent;\n",
       "      border-right-color: var(--fill-color);\n",
       "      border-top-color: var(--fill-color);\n",
       "    }\n",
       "    60% {\n",
       "      border-color: transparent;\n",
       "      border-right-color: var(--fill-color);\n",
       "    }\n",
       "    80% {\n",
       "      border-color: transparent;\n",
       "      border-right-color: var(--fill-color);\n",
       "      border-bottom-color: var(--fill-color);\n",
       "    }\n",
       "    90% {\n",
       "      border-color: transparent;\n",
       "      border-bottom-color: var(--fill-color);\n",
       "    }\n",
       "  }\n",
       "</style>\n",
       "\n",
       "  <script>\n",
       "    async function quickchart(key) {\n",
       "      const quickchartButtonEl =\n",
       "        document.querySelector('#' + key + ' button');\n",
       "      quickchartButtonEl.disabled = true;  // To prevent multiple clicks.\n",
       "      quickchartButtonEl.classList.add('colab-df-spinner');\n",
       "      try {\n",
       "        const charts = await google.colab.kernel.invokeFunction(\n",
       "            'suggestCharts', [key], {});\n",
       "      } catch (error) {\n",
       "        console.error('Error during call to suggestCharts:', error);\n",
       "      }\n",
       "      quickchartButtonEl.classList.remove('colab-df-spinner');\n",
       "      quickchartButtonEl.classList.add('colab-df-quickchart-complete');\n",
       "    }\n",
       "    (() => {\n",
       "      let quickchartButtonEl =\n",
       "        document.querySelector('#df-b45e286e-9ec3-4511-878e-812cfa0b3996 button');\n",
       "      quickchartButtonEl.style.display =\n",
       "        google.colab.kernel.accessAllowed ? 'block' : 'none';\n",
       "    })();\n",
       "  </script>\n",
       "</div>\n",
       "    </div>\n",
       "  </div>\n"
      ],
      "text/plain": [
       "  StockSymbol          Industry                 SubIndustry  Ret2000.01  \\\n",
       "0        AAON  Industrial Goods  General Building Materials    0.080678   \n",
       "1        AAPL    Consumer Goods        Electronic Equipment   -0.010680   \n",
       "2        ABAX        Healthcare       Diagnostic Substances    0.047742   \n",
       "3        ABCB         Financial                    Regional   -0.074040   \n",
       "4        ABFS          Services                    Trucking   -0.031046   \n",
       "\n",
       "   Ret2000.02  Ret2000.03  Ret2000.04  Ret2000.05  Ret2000.06  ret2000.07  \\\n",
       "0    0.066250    0.032941    0.183099    0.130334   -0.017642   -0.020517   \n",
       "1    0.102115    0.145496   -0.084428   -0.327300   -0.359266   -0.025321   \n",
       "2    0.035990    0.039702   -0.162353   -0.147427    0.048589   -0.135385   \n",
       "3   -0.048170    0.018219   -0.024679   -0.006036   -0.025304   -0.094000   \n",
       "4   -0.212677    0.091476    0.189338   -0.153846   -0.106115    0.355301   \n",
       "\n",
       "   ...  Ret2009.03  Ret2009.04  Ret2009.05  Ret2009.06  Ret2009.07  \\\n",
       "0  ...    0.185088    0.100565    0.067762   -0.045062   -0.025832   \n",
       "1  ...    0.192919    0.208858    0.079571    0.043673    0.138606   \n",
       "2  ...    0.111541   -0.119907    0.162126    0.161108    0.304581   \n",
       "3  ...   -0.024845    0.402570   -0.039816   -0.020155    0.004651   \n",
       "4  ...    0.113583    0.227007    0.216357   -0.075114    0.069471   \n",
       "\n",
       "   Ret2009.08  Ret2009.09  Ret2009.10  Ret2009.11  Ret2009.12  \n",
       "0    0.060976   -0.039234   -0.101297    0.041804    0.019885  \n",
       "1    0.018159    0.103339    0.016995    0.053267    0.041980  \n",
       "2    0.001883    0.014026   -0.141783   -0.024740    0.134043  \n",
       "3    0.007812    0.122449   -0.170423    0.105351    0.062315  \n",
       "4    0.112273   -0.052831   -0.127703   -0.047582    0.191981  \n",
       "\n",
       "[5 rows x 123 columns]"
      ]
     },
     "execution_count": 43,
     "metadata": {},
     "output_type": "execute_result"
    }
   ],
   "source": [
    "df = pd.read_csv(\"NasdaqReturns.csv\")\n",
    "df.head()"
   ]
  },
  {
   "cell_type": "code",
   "execution_count": 44,
   "metadata": {
    "colab": {
     "base_uri": "https://localhost:8080/"
    },
    "id": "QyD_ybH_g4Lc",
    "outputId": "bc5b1de6-7553-462d-8609-4854abe16ad1"
   },
   "outputs": [
    {
     "data": {
      "text/plain": [
       "1158"
      ]
     },
     "execution_count": 44,
     "metadata": {},
     "output_type": "execute_result"
    }
   ],
   "source": [
    "len(df)"
   ]
  },
  {
   "cell_type": "code",
   "execution_count": 45,
   "metadata": {
    "colab": {
     "base_uri": "https://localhost:8080/"
    },
    "id": "CBR4bFkYyk7L",
    "outputId": "d1c3dbc7-1f4b-4498-b19d-902777b209d7"
   },
   "outputs": [
    {
     "name": "stdout",
     "output_type": "stream",
     "text": [
      "Companies in each industry\n"
     ]
    },
    {
     "data": {
      "text/plain": [
       "Industry\n",
       "Financial            338\n",
       "Technology           296\n",
       "Services             202\n",
       "Healthcare           111\n",
       "Consumer Goods        80\n",
       "Industrial Goods      65\n",
       "Basic Materials       50\n",
       "Utilities             12\n",
       "Conglomerates          2\n",
       "Consumer Cyclical      2\n",
       "dtype: int64"
      ]
     },
     "execution_count": 45,
     "metadata": {},
     "output_type": "execute_result"
    }
   ],
   "source": [
    "print(\"Companies in each industry\")\n",
    "df.groupby('Industry').size().sort_values(ascending=False)"
   ]
  },
  {
   "cell_type": "code",
   "execution_count": 46,
   "metadata": {
    "colab": {
     "base_uri": "https://localhost:8080/"
    },
    "id": "O707zUxvg-7x",
    "outputId": "57f40fab-b5c6-4b45-865c-d16cb232d0bf"
   },
   "outputs": [
    {
     "data": {
      "text/plain": [
       "309"
      ]
     },
     "execution_count": 46,
     "metadata": {},
     "output_type": "execute_result"
    }
   ],
   "source": [
    "len(df[df['Ret2000.12'] >= 0.1])"
   ]
  },
  {
   "cell_type": "code",
   "execution_count": 47,
   "metadata": {
    "colab": {
     "base_uri": "https://localhost:8080/"
    },
    "id": "nO04PqFQhpa-",
    "outputId": "ef576e3f-acdf-4124-c3eb-bf28799b1338"
   },
   "outputs": [
    {
     "data": {
      "text/plain": [
       "261"
      ]
     },
     "execution_count": 47,
     "metadata": {},
     "output_type": "execute_result"
    }
   ],
   "source": [
    "len(df[df['Ret2000.12'] <= -0.1])"
   ]
  },
  {
   "cell_type": "code",
   "execution_count": 48,
   "metadata": {
    "colab": {
     "base_uri": "https://localhost:8080/"
    },
    "id": "XHzYP8VRoya-",
    "outputId": "127d5a3e-2ef2-40ec-f565-1ca86056d5c3",
    "scrolled": true
   },
   "outputs": [
    {
     "data": {
      "text/plain": [
       "Industry\n",
       "Conglomerates       -0.265748\n",
       "Basic Materials     -0.254674\n",
       "Industrial Goods    -0.233366\n",
       "Technology          -0.196299\n",
       "Services            -0.173833\n",
       "Healthcare          -0.169440\n",
       "Consumer Goods      -0.155209\n",
       "Consumer Cyclical   -0.145705\n",
       "Utilities           -0.120087\n",
       "Financial           -0.102884\n",
       "Name: Ret2008.10, dtype: float64"
      ]
     },
     "execution_count": 48,
     "metadata": {},
     "output_type": "execute_result"
    }
   ],
   "source": [
    "df.groupby('Industry')['Ret2008.10'].mean().sort_values(ascending=True)"
   ]
  },
  {
   "cell_type": "markdown",
   "metadata": {},
   "source": [
    "# Insights"
   ]
  },
  {
   "cell_type": "markdown",
   "metadata": {
    "id": "Qd9cLxJOzHox"
   },
   "source": [
    "i) There are 1138 companies in the dataset. The number of companies in each industry is as follows:\n",
    "\n",
    "```\n",
    "Financial            338\n",
    "Technology           296\n",
    "Services             202\n",
    "Healthcare           111\n",
    "Consumer Goods        80\n",
    "Industrial Goods      65\n",
    "Basic Materials       50\n",
    "Utilities             12\n",
    "Conglomerates          2\n",
    "Consumer Cyclical      2\n",
    "```\n",
    "\n",
    "ii)\n",
    "*   309 stocks saw a 10% increase or more in Dec 2000.\n",
    "*   261 stocks saw a 10% decrease or more in Dec 2000.\n",
    "\n",
    "iii) In Oct 2008, Conglomerates saw the worst average return across all stocks with -26.57%. Basic materials and Industrial goods saw 2nd and 3rd worst average returns during the same period.\n",
    "\n",
    "\n"
   ]
  },
  {
   "cell_type": "markdown",
   "metadata": {
    "id": "gkGhO3C7jmHp"
   },
   "source": [
    "# Section B"
   ]
  },
  {
   "cell_type": "code",
   "execution_count": 49,
   "metadata": {
    "colab": {
     "base_uri": "https://localhost:8080/",
     "height": 256
    },
    "id": "hsx4LGrKi8vN",
    "outputId": "d2e17b78-abb6-4233-9bf5-ed9a8b60e181"
   },
   "outputs": [
    {
     "data": {
      "text/html": [
       "\n",
       "  <div id=\"df-2019d5d1-a98f-4c28-8c70-210867b4fc58\" class=\"colab-df-container\">\n",
       "    <div>\n",
       "<style scoped>\n",
       "    .dataframe tbody tr th:only-of-type {\n",
       "        vertical-align: middle;\n",
       "    }\n",
       "\n",
       "    .dataframe tbody tr th {\n",
       "        vertical-align: top;\n",
       "    }\n",
       "\n",
       "    .dataframe thead th {\n",
       "        text-align: right;\n",
       "    }\n",
       "</style>\n",
       "<table border=\"1\" class=\"dataframe\">\n",
       "  <thead>\n",
       "    <tr style=\"text-align: right;\">\n",
       "      <th></th>\n",
       "      <th>Ret2000.01</th>\n",
       "      <th>Ret2000.02</th>\n",
       "      <th>Ret2000.03</th>\n",
       "      <th>Ret2000.04</th>\n",
       "      <th>Ret2000.05</th>\n",
       "      <th>Ret2000.06</th>\n",
       "      <th>ret2000.07</th>\n",
       "      <th>Ret2000.08</th>\n",
       "      <th>Ret2000.09</th>\n",
       "      <th>Ret2000.10</th>\n",
       "      <th>...</th>\n",
       "      <th>Ret2009.03</th>\n",
       "      <th>Ret2009.04</th>\n",
       "      <th>Ret2009.05</th>\n",
       "      <th>Ret2009.06</th>\n",
       "      <th>Ret2009.07</th>\n",
       "      <th>Ret2009.08</th>\n",
       "      <th>Ret2009.09</th>\n",
       "      <th>Ret2009.10</th>\n",
       "      <th>Ret2009.11</th>\n",
       "      <th>Ret2009.12</th>\n",
       "    </tr>\n",
       "  </thead>\n",
       "  <tbody>\n",
       "    <tr>\n",
       "      <th>0</th>\n",
       "      <td>0.080678</td>\n",
       "      <td>0.066250</td>\n",
       "      <td>0.032941</td>\n",
       "      <td>0.183099</td>\n",
       "      <td>0.130334</td>\n",
       "      <td>-0.017642</td>\n",
       "      <td>-0.020517</td>\n",
       "      <td>0.024676</td>\n",
       "      <td>-0.020408</td>\n",
       "      <td>-0.173318</td>\n",
       "      <td>...</td>\n",
       "      <td>0.185088</td>\n",
       "      <td>0.100565</td>\n",
       "      <td>0.067762</td>\n",
       "      <td>-0.045062</td>\n",
       "      <td>-0.025832</td>\n",
       "      <td>0.060976</td>\n",
       "      <td>-0.039234</td>\n",
       "      <td>-0.101297</td>\n",
       "      <td>0.041804</td>\n",
       "      <td>0.019885</td>\n",
       "    </tr>\n",
       "    <tr>\n",
       "      <th>1</th>\n",
       "      <td>-0.010680</td>\n",
       "      <td>0.102115</td>\n",
       "      <td>0.145496</td>\n",
       "      <td>-0.084428</td>\n",
       "      <td>-0.327300</td>\n",
       "      <td>-0.359266</td>\n",
       "      <td>-0.025321</td>\n",
       "      <td>0.211290</td>\n",
       "      <td>-0.580003</td>\n",
       "      <td>-0.267141</td>\n",
       "      <td>...</td>\n",
       "      <td>0.192919</td>\n",
       "      <td>0.208858</td>\n",
       "      <td>0.079571</td>\n",
       "      <td>0.043673</td>\n",
       "      <td>0.138606</td>\n",
       "      <td>0.018159</td>\n",
       "      <td>0.103339</td>\n",
       "      <td>0.016995</td>\n",
       "      <td>0.053267</td>\n",
       "      <td>0.041980</td>\n",
       "    </tr>\n",
       "    <tr>\n",
       "      <th>2</th>\n",
       "      <td>0.047742</td>\n",
       "      <td>0.035990</td>\n",
       "      <td>0.039702</td>\n",
       "      <td>-0.162353</td>\n",
       "      <td>-0.147427</td>\n",
       "      <td>0.048589</td>\n",
       "      <td>-0.135385</td>\n",
       "      <td>0.033392</td>\n",
       "      <td>0.000000</td>\n",
       "      <td>0.091696</td>\n",
       "      <td>...</td>\n",
       "      <td>0.111541</td>\n",
       "      <td>-0.119907</td>\n",
       "      <td>0.162126</td>\n",
       "      <td>0.161108</td>\n",
       "      <td>0.304581</td>\n",
       "      <td>0.001883</td>\n",
       "      <td>0.014026</td>\n",
       "      <td>-0.141783</td>\n",
       "      <td>-0.024740</td>\n",
       "      <td>0.134043</td>\n",
       "    </tr>\n",
       "    <tr>\n",
       "      <th>3</th>\n",
       "      <td>-0.074040</td>\n",
       "      <td>-0.048170</td>\n",
       "      <td>0.018219</td>\n",
       "      <td>-0.024679</td>\n",
       "      <td>-0.006036</td>\n",
       "      <td>-0.025304</td>\n",
       "      <td>-0.094000</td>\n",
       "      <td>0.095290</td>\n",
       "      <td>0.056680</td>\n",
       "      <td>-0.096339</td>\n",
       "      <td>...</td>\n",
       "      <td>-0.024845</td>\n",
       "      <td>0.402570</td>\n",
       "      <td>-0.039816</td>\n",
       "      <td>-0.020155</td>\n",
       "      <td>0.004651</td>\n",
       "      <td>0.007812</td>\n",
       "      <td>0.122449</td>\n",
       "      <td>-0.170423</td>\n",
       "      <td>0.105351</td>\n",
       "      <td>0.062315</td>\n",
       "    </tr>\n",
       "    <tr>\n",
       "      <th>4</th>\n",
       "      <td>-0.031046</td>\n",
       "      <td>-0.212677</td>\n",
       "      <td>0.091476</td>\n",
       "      <td>0.189338</td>\n",
       "      <td>-0.153846</td>\n",
       "      <td>-0.106115</td>\n",
       "      <td>0.355301</td>\n",
       "      <td>0.056842</td>\n",
       "      <td>0.033602</td>\n",
       "      <td>0.036269</td>\n",
       "      <td>...</td>\n",
       "      <td>0.113583</td>\n",
       "      <td>0.227007</td>\n",
       "      <td>0.216357</td>\n",
       "      <td>-0.075114</td>\n",
       "      <td>0.069471</td>\n",
       "      <td>0.112273</td>\n",
       "      <td>-0.052831</td>\n",
       "      <td>-0.127703</td>\n",
       "      <td>-0.047582</td>\n",
       "      <td>0.191981</td>\n",
       "    </tr>\n",
       "  </tbody>\n",
       "</table>\n",
       "<p>5 rows × 120 columns</p>\n",
       "</div>\n",
       "    <div class=\"colab-df-buttons\">\n",
       "\n",
       "  <div class=\"colab-df-container\">\n",
       "    <button class=\"colab-df-convert\" onclick=\"convertToInteractive('df-2019d5d1-a98f-4c28-8c70-210867b4fc58')\"\n",
       "            title=\"Convert this dataframe to an interactive table.\"\n",
       "            style=\"display:none;\">\n",
       "\n",
       "  <svg xmlns=\"http://www.w3.org/2000/svg\" height=\"24px\" viewBox=\"0 -960 960 960\">\n",
       "    <path d=\"M120-120v-720h720v720H120Zm60-500h600v-160H180v160Zm220 220h160v-160H400v160Zm0 220h160v-160H400v160ZM180-400h160v-160H180v160Zm440 0h160v-160H620v160ZM180-180h160v-160H180v160Zm440 0h160v-160H620v160Z\"/>\n",
       "  </svg>\n",
       "    </button>\n",
       "\n",
       "  <style>\n",
       "    .colab-df-container {\n",
       "      display:flex;\n",
       "      gap: 12px;\n",
       "    }\n",
       "\n",
       "    .colab-df-convert {\n",
       "      background-color: #E8F0FE;\n",
       "      border: none;\n",
       "      border-radius: 50%;\n",
       "      cursor: pointer;\n",
       "      display: none;\n",
       "      fill: #1967D2;\n",
       "      height: 32px;\n",
       "      padding: 0 0 0 0;\n",
       "      width: 32px;\n",
       "    }\n",
       "\n",
       "    .colab-df-convert:hover {\n",
       "      background-color: #E2EBFA;\n",
       "      box-shadow: 0px 1px 2px rgba(60, 64, 67, 0.3), 0px 1px 3px 1px rgba(60, 64, 67, 0.15);\n",
       "      fill: #174EA6;\n",
       "    }\n",
       "\n",
       "    .colab-df-buttons div {\n",
       "      margin-bottom: 4px;\n",
       "    }\n",
       "\n",
       "    [theme=dark] .colab-df-convert {\n",
       "      background-color: #3B4455;\n",
       "      fill: #D2E3FC;\n",
       "    }\n",
       "\n",
       "    [theme=dark] .colab-df-convert:hover {\n",
       "      background-color: #434B5C;\n",
       "      box-shadow: 0px 1px 3px 1px rgba(0, 0, 0, 0.15);\n",
       "      filter: drop-shadow(0px 1px 2px rgba(0, 0, 0, 0.3));\n",
       "      fill: #FFFFFF;\n",
       "    }\n",
       "  </style>\n",
       "\n",
       "    <script>\n",
       "      const buttonEl =\n",
       "        document.querySelector('#df-2019d5d1-a98f-4c28-8c70-210867b4fc58 button.colab-df-convert');\n",
       "      buttonEl.style.display =\n",
       "        google.colab.kernel.accessAllowed ? 'block' : 'none';\n",
       "\n",
       "      async function convertToInteractive(key) {\n",
       "        const element = document.querySelector('#df-2019d5d1-a98f-4c28-8c70-210867b4fc58');\n",
       "        const dataTable =\n",
       "          await google.colab.kernel.invokeFunction('convertToInteractive',\n",
       "                                                    [key], {});\n",
       "        if (!dataTable) return;\n",
       "\n",
       "        const docLinkHtml = 'Like what you see? Visit the ' +\n",
       "          '<a target=\"_blank\" href=https://colab.research.google.com/notebooks/data_table.ipynb>data table notebook</a>'\n",
       "          + ' to learn more about interactive tables.';\n",
       "        element.innerHTML = '';\n",
       "        dataTable['output_type'] = 'display_data';\n",
       "        await google.colab.output.renderOutput(dataTable, element);\n",
       "        const docLink = document.createElement('div');\n",
       "        docLink.innerHTML = docLinkHtml;\n",
       "        element.appendChild(docLink);\n",
       "      }\n",
       "    </script>\n",
       "  </div>\n",
       "\n",
       "\n",
       "<div id=\"df-6aa99a7f-6ef0-46ed-9a84-b278509798f2\">\n",
       "  <button class=\"colab-df-quickchart\" onclick=\"quickchart('df-6aa99a7f-6ef0-46ed-9a84-b278509798f2')\"\n",
       "            title=\"Suggest charts\"\n",
       "            style=\"display:none;\">\n",
       "\n",
       "<svg xmlns=\"http://www.w3.org/2000/svg\" height=\"24px\"viewBox=\"0 0 24 24\"\n",
       "     width=\"24px\">\n",
       "    <g>\n",
       "        <path d=\"M19 3H5c-1.1 0-2 .9-2 2v14c0 1.1.9 2 2 2h14c1.1 0 2-.9 2-2V5c0-1.1-.9-2-2-2zM9 17H7v-7h2v7zm4 0h-2V7h2v10zm4 0h-2v-4h2v4z\"/>\n",
       "    </g>\n",
       "</svg>\n",
       "  </button>\n",
       "\n",
       "<style>\n",
       "  .colab-df-quickchart {\n",
       "      --bg-color: #E8F0FE;\n",
       "      --fill-color: #1967D2;\n",
       "      --hover-bg-color: #E2EBFA;\n",
       "      --hover-fill-color: #174EA6;\n",
       "      --disabled-fill-color: #AAA;\n",
       "      --disabled-bg-color: #DDD;\n",
       "  }\n",
       "\n",
       "  [theme=dark] .colab-df-quickchart {\n",
       "      --bg-color: #3B4455;\n",
       "      --fill-color: #D2E3FC;\n",
       "      --hover-bg-color: #434B5C;\n",
       "      --hover-fill-color: #FFFFFF;\n",
       "      --disabled-bg-color: #3B4455;\n",
       "      --disabled-fill-color: #666;\n",
       "  }\n",
       "\n",
       "  .colab-df-quickchart {\n",
       "    background-color: var(--bg-color);\n",
       "    border: none;\n",
       "    border-radius: 50%;\n",
       "    cursor: pointer;\n",
       "    display: none;\n",
       "    fill: var(--fill-color);\n",
       "    height: 32px;\n",
       "    padding: 0;\n",
       "    width: 32px;\n",
       "  }\n",
       "\n",
       "  .colab-df-quickchart:hover {\n",
       "    background-color: var(--hover-bg-color);\n",
       "    box-shadow: 0 1px 2px rgba(60, 64, 67, 0.3), 0 1px 3px 1px rgba(60, 64, 67, 0.15);\n",
       "    fill: var(--button-hover-fill-color);\n",
       "  }\n",
       "\n",
       "  .colab-df-quickchart-complete:disabled,\n",
       "  .colab-df-quickchart-complete:disabled:hover {\n",
       "    background-color: var(--disabled-bg-color);\n",
       "    fill: var(--disabled-fill-color);\n",
       "    box-shadow: none;\n",
       "  }\n",
       "\n",
       "  .colab-df-spinner {\n",
       "    border: 2px solid var(--fill-color);\n",
       "    border-color: transparent;\n",
       "    border-bottom-color: var(--fill-color);\n",
       "    animation:\n",
       "      spin 1s steps(1) infinite;\n",
       "  }\n",
       "\n",
       "  @keyframes spin {\n",
       "    0% {\n",
       "      border-color: transparent;\n",
       "      border-bottom-color: var(--fill-color);\n",
       "      border-left-color: var(--fill-color);\n",
       "    }\n",
       "    20% {\n",
       "      border-color: transparent;\n",
       "      border-left-color: var(--fill-color);\n",
       "      border-top-color: var(--fill-color);\n",
       "    }\n",
       "    30% {\n",
       "      border-color: transparent;\n",
       "      border-left-color: var(--fill-color);\n",
       "      border-top-color: var(--fill-color);\n",
       "      border-right-color: var(--fill-color);\n",
       "    }\n",
       "    40% {\n",
       "      border-color: transparent;\n",
       "      border-right-color: var(--fill-color);\n",
       "      border-top-color: var(--fill-color);\n",
       "    }\n",
       "    60% {\n",
       "      border-color: transparent;\n",
       "      border-right-color: var(--fill-color);\n",
       "    }\n",
       "    80% {\n",
       "      border-color: transparent;\n",
       "      border-right-color: var(--fill-color);\n",
       "      border-bottom-color: var(--fill-color);\n",
       "    }\n",
       "    90% {\n",
       "      border-color: transparent;\n",
       "      border-bottom-color: var(--fill-color);\n",
       "    }\n",
       "  }\n",
       "</style>\n",
       "\n",
       "  <script>\n",
       "    async function quickchart(key) {\n",
       "      const quickchartButtonEl =\n",
       "        document.querySelector('#' + key + ' button');\n",
       "      quickchartButtonEl.disabled = true;  // To prevent multiple clicks.\n",
       "      quickchartButtonEl.classList.add('colab-df-spinner');\n",
       "      try {\n",
       "        const charts = await google.colab.kernel.invokeFunction(\n",
       "            'suggestCharts', [key], {});\n",
       "      } catch (error) {\n",
       "        console.error('Error during call to suggestCharts:', error);\n",
       "      }\n",
       "      quickchartButtonEl.classList.remove('colab-df-spinner');\n",
       "      quickchartButtonEl.classList.add('colab-df-quickchart-complete');\n",
       "    }\n",
       "    (() => {\n",
       "      let quickchartButtonEl =\n",
       "        document.querySelector('#df-6aa99a7f-6ef0-46ed-9a84-b278509798f2 button');\n",
       "      quickchartButtonEl.style.display =\n",
       "        google.colab.kernel.accessAllowed ? 'block' : 'none';\n",
       "    })();\n",
       "  </script>\n",
       "</div>\n",
       "    </div>\n",
       "  </div>\n"
      ],
      "text/plain": [
       "   Ret2000.01  Ret2000.02  Ret2000.03  Ret2000.04  Ret2000.05  Ret2000.06  \\\n",
       "0    0.080678    0.066250    0.032941    0.183099    0.130334   -0.017642   \n",
       "1   -0.010680    0.102115    0.145496   -0.084428   -0.327300   -0.359266   \n",
       "2    0.047742    0.035990    0.039702   -0.162353   -0.147427    0.048589   \n",
       "3   -0.074040   -0.048170    0.018219   -0.024679   -0.006036   -0.025304   \n",
       "4   -0.031046   -0.212677    0.091476    0.189338   -0.153846   -0.106115   \n",
       "\n",
       "   ret2000.07  Ret2000.08  Ret2000.09  Ret2000.10  ...  Ret2009.03  \\\n",
       "0   -0.020517    0.024676   -0.020408   -0.173318  ...    0.185088   \n",
       "1   -0.025321    0.211290   -0.580003   -0.267141  ...    0.192919   \n",
       "2   -0.135385    0.033392    0.000000    0.091696  ...    0.111541   \n",
       "3   -0.094000    0.095290    0.056680   -0.096339  ...   -0.024845   \n",
       "4    0.355301    0.056842    0.033602    0.036269  ...    0.113583   \n",
       "\n",
       "   Ret2009.04  Ret2009.05  Ret2009.06  Ret2009.07  Ret2009.08  Ret2009.09  \\\n",
       "0    0.100565    0.067762   -0.045062   -0.025832    0.060976   -0.039234   \n",
       "1    0.208858    0.079571    0.043673    0.138606    0.018159    0.103339   \n",
       "2   -0.119907    0.162126    0.161108    0.304581    0.001883    0.014026   \n",
       "3    0.402570   -0.039816   -0.020155    0.004651    0.007812    0.122449   \n",
       "4    0.227007    0.216357   -0.075114    0.069471    0.112273   -0.052831   \n",
       "\n",
       "   Ret2009.10  Ret2009.11  Ret2009.12  \n",
       "0   -0.101297    0.041804    0.019885  \n",
       "1    0.016995    0.053267    0.041980  \n",
       "2   -0.141783   -0.024740    0.134043  \n",
       "3   -0.170423    0.105351    0.062315  \n",
       "4   -0.127703   -0.047582    0.191981  \n",
       "\n",
       "[5 rows x 120 columns]"
      ]
     },
     "execution_count": 49,
     "metadata": {},
     "output_type": "execute_result"
    }
   ],
   "source": [
    "df_cluster = df.iloc[:,3:]\n",
    "df_cluster.head()"
   ]
  },
  {
   "cell_type": "code",
   "execution_count": 50,
   "metadata": {
    "id": "hszlKrZpji3F"
   },
   "outputs": [],
   "source": [
    "from scipy.cluster.hierarchy import dendrogram, linkage\n",
    "import matplotlib.pyplot as plt"
   ]
  },
  {
   "cell_type": "code",
   "execution_count": 51,
   "metadata": {
    "id": "zJpu8P-IkCp5"
   },
   "outputs": [],
   "source": [
    "D = linkage(df_cluster, method='ward', metric='euclidean')"
   ]
  },
  {
   "cell_type": "code",
   "execution_count": 52,
   "metadata": {
    "colab": {
     "base_uri": "https://localhost:8080/",
     "height": 712
    },
    "id": "LUHsttf7kQEP",
    "outputId": "c95490a8-a5ec-4c49-97c8-9d72cb5c34aa"
   },
   "outputs": [
    {
     "data": {
      "text/plain": [
       "Text(0.5, 1.0, 'Dendrogram')"
      ]
     },
     "execution_count": 52,
     "metadata": {},
     "output_type": "execute_result"
    },
    {
     "data": {
      "image/png": "[encoded data removed]",
      "text/plain": [
       "<Figure size 7500x5000 with 1 Axes>"
      ]
     },
     "metadata": {},
     "output_type": "display_data"
    }
   ],
   "source": [
    "plt.figure(figsize=(75,50))\n",
    "dendrogram(D)\n",
    "plt.title(\"Dendrogram\")"
   ]
  },
  {
   "cell_type": "code",
   "execution_count": 53,
   "metadata": {
    "id": "vQwlj4TpkY4i"
   },
   "outputs": [],
   "source": [
    "from scipy.cluster.hierarchy import cut_tree"
   ]
  },
  {
   "cell_type": "code",
   "execution_count": 54,
   "metadata": {
    "id": "TSysSYiKkbuj"
   },
   "outputs": [],
   "source": [
    "df['clusters']  = cut_tree(D, n_clusters = 4).flatten()"
   ]
  },
  {
   "cell_type": "code",
   "execution_count": 55,
   "metadata": {
    "colab": {
     "base_uri": "https://localhost:8080/",
     "height": 325
    },
    "id": "JBNv560Sk5E6",
    "outputId": "9b48d099-2d30-49df-a57e-3615c0583ba6"
   },
   "outputs": [
    {
     "data": {
      "text/html": [
       "\n",
       "  <div id=\"df-878873e5-f44c-435f-905c-2436a501eb5f\" class=\"colab-df-container\">\n",
       "    <div>\n",
       "<style scoped>\n",
       "    .dataframe tbody tr th:only-of-type {\n",
       "        vertical-align: middle;\n",
       "    }\n",
       "\n",
       "    .dataframe tbody tr th {\n",
       "        vertical-align: top;\n",
       "    }\n",
       "\n",
       "    .dataframe thead th {\n",
       "        text-align: right;\n",
       "    }\n",
       "</style>\n",
       "<table border=\"1\" class=\"dataframe\">\n",
       "  <thead>\n",
       "    <tr style=\"text-align: right;\">\n",
       "      <th></th>\n",
       "      <th>StockSymbol</th>\n",
       "      <th>Industry</th>\n",
       "      <th>SubIndustry</th>\n",
       "      <th>Ret2000.01</th>\n",
       "      <th>Ret2000.02</th>\n",
       "      <th>Ret2000.03</th>\n",
       "      <th>Ret2000.04</th>\n",
       "      <th>Ret2000.05</th>\n",
       "      <th>Ret2000.06</th>\n",
       "      <th>ret2000.07</th>\n",
       "      <th>...</th>\n",
       "      <th>Ret2009.04</th>\n",
       "      <th>Ret2009.05</th>\n",
       "      <th>Ret2009.06</th>\n",
       "      <th>Ret2009.07</th>\n",
       "      <th>Ret2009.08</th>\n",
       "      <th>Ret2009.09</th>\n",
       "      <th>Ret2009.10</th>\n",
       "      <th>Ret2009.11</th>\n",
       "      <th>Ret2009.12</th>\n",
       "      <th>clusters</th>\n",
       "    </tr>\n",
       "  </thead>\n",
       "  <tbody>\n",
       "    <tr>\n",
       "      <th>0</th>\n",
       "      <td>AAON</td>\n",
       "      <td>Industrial Goods</td>\n",
       "      <td>General Building Materials</td>\n",
       "      <td>0.080678</td>\n",
       "      <td>0.066250</td>\n",
       "      <td>0.032941</td>\n",
       "      <td>0.183099</td>\n",
       "      <td>0.130334</td>\n",
       "      <td>-0.017642</td>\n",
       "      <td>-0.020517</td>\n",
       "      <td>...</td>\n",
       "      <td>0.100565</td>\n",
       "      <td>0.067762</td>\n",
       "      <td>-0.045062</td>\n",
       "      <td>-0.025832</td>\n",
       "      <td>0.060976</td>\n",
       "      <td>-0.039234</td>\n",
       "      <td>-0.101297</td>\n",
       "      <td>0.041804</td>\n",
       "      <td>0.019885</td>\n",
       "      <td>0</td>\n",
       "    </tr>\n",
       "    <tr>\n",
       "      <th>1</th>\n",
       "      <td>AAPL</td>\n",
       "      <td>Consumer Goods</td>\n",
       "      <td>Electronic Equipment</td>\n",
       "      <td>-0.010680</td>\n",
       "      <td>0.102115</td>\n",
       "      <td>0.145496</td>\n",
       "      <td>-0.084428</td>\n",
       "      <td>-0.327300</td>\n",
       "      <td>-0.359266</td>\n",
       "      <td>-0.025321</td>\n",
       "      <td>...</td>\n",
       "      <td>0.208858</td>\n",
       "      <td>0.079571</td>\n",
       "      <td>0.043673</td>\n",
       "      <td>0.138606</td>\n",
       "      <td>0.018159</td>\n",
       "      <td>0.103339</td>\n",
       "      <td>0.016995</td>\n",
       "      <td>0.053267</td>\n",
       "      <td>0.041980</td>\n",
       "      <td>1</td>\n",
       "    </tr>\n",
       "    <tr>\n",
       "      <th>2</th>\n",
       "      <td>ABAX</td>\n",
       "      <td>Healthcare</td>\n",
       "      <td>Diagnostic Substances</td>\n",
       "      <td>0.047742</td>\n",
       "      <td>0.035990</td>\n",
       "      <td>0.039702</td>\n",
       "      <td>-0.162353</td>\n",
       "      <td>-0.147427</td>\n",
       "      <td>0.048589</td>\n",
       "      <td>-0.135385</td>\n",
       "      <td>...</td>\n",
       "      <td>-0.119907</td>\n",
       "      <td>0.162126</td>\n",
       "      <td>0.161108</td>\n",
       "      <td>0.304581</td>\n",
       "      <td>0.001883</td>\n",
       "      <td>0.014026</td>\n",
       "      <td>-0.141783</td>\n",
       "      <td>-0.024740</td>\n",
       "      <td>0.134043</td>\n",
       "      <td>2</td>\n",
       "    </tr>\n",
       "    <tr>\n",
       "      <th>3</th>\n",
       "      <td>ABCB</td>\n",
       "      <td>Financial</td>\n",
       "      <td>Regional</td>\n",
       "      <td>-0.074040</td>\n",
       "      <td>-0.048170</td>\n",
       "      <td>0.018219</td>\n",
       "      <td>-0.024679</td>\n",
       "      <td>-0.006036</td>\n",
       "      <td>-0.025304</td>\n",
       "      <td>-0.094000</td>\n",
       "      <td>...</td>\n",
       "      <td>0.402570</td>\n",
       "      <td>-0.039816</td>\n",
       "      <td>-0.020155</td>\n",
       "      <td>0.004651</td>\n",
       "      <td>0.007812</td>\n",
       "      <td>0.122449</td>\n",
       "      <td>-0.170423</td>\n",
       "      <td>0.105351</td>\n",
       "      <td>0.062315</td>\n",
       "      <td>0</td>\n",
       "    </tr>\n",
       "    <tr>\n",
       "      <th>4</th>\n",
       "      <td>ABFS</td>\n",
       "      <td>Services</td>\n",
       "      <td>Trucking</td>\n",
       "      <td>-0.031046</td>\n",
       "      <td>-0.212677</td>\n",
       "      <td>0.091476</td>\n",
       "      <td>0.189338</td>\n",
       "      <td>-0.153846</td>\n",
       "      <td>-0.106115</td>\n",
       "      <td>0.355301</td>\n",
       "      <td>...</td>\n",
       "      <td>0.227007</td>\n",
       "      <td>0.216357</td>\n",
       "      <td>-0.075114</td>\n",
       "      <td>0.069471</td>\n",
       "      <td>0.112273</td>\n",
       "      <td>-0.052831</td>\n",
       "      <td>-0.127703</td>\n",
       "      <td>-0.047582</td>\n",
       "      <td>0.191981</td>\n",
       "      <td>0</td>\n",
       "    </tr>\n",
       "  </tbody>\n",
       "</table>\n",
       "<p>5 rows × 124 columns</p>\n",
       "</div>\n",
       "    <div class=\"colab-df-buttons\">\n",
       "\n",
       "  <div class=\"colab-df-container\">\n",
       "    <button class=\"colab-df-convert\" onclick=\"convertToInteractive('df-878873e5-f44c-435f-905c-2436a501eb5f')\"\n",
       "            title=\"Convert this dataframe to an interactive table.\"\n",
       "            style=\"display:none;\">\n",
       "\n",
       "  <svg xmlns=\"http://www.w3.org/2000/svg\" height=\"24px\" viewBox=\"0 -960 960 960\">\n",
       "    <path d=\"M120-120v-720h720v720H120Zm60-500h600v-160H180v160Zm220 220h160v-160H400v160Zm0 220h160v-160H400v160ZM180-400h160v-160H180v160Zm440 0h160v-160H620v160ZM180-180h160v-160H180v160Zm440 0h160v-160H620v160Z\"/>\n",
       "  </svg>\n",
       "    </button>\n",
       "\n",
       "  <style>\n",
       "    .colab-df-container {\n",
       "      display:flex;\n",
       "      gap: 12px;\n",
       "    }\n",
       "\n",
       "    .colab-df-convert {\n",
       "      background-color: #E8F0FE;\n",
       "      border: none;\n",
       "      border-radius: 50%;\n",
       "      cursor: pointer;\n",
       "      display: none;\n",
       "      fill: #1967D2;\n",
       "      height: 32px;\n",
       "      padding: 0 0 0 0;\n",
       "      width: 32px;\n",
       "    }\n",
       "\n",
       "    .colab-df-convert:hover {\n",
       "      background-color: #E2EBFA;\n",
       "      box-shadow: 0px 1px 2px rgba(60, 64, 67, 0.3), 0px 1px 3px 1px rgba(60, 64, 67, 0.15);\n",
       "      fill: #174EA6;\n",
       "    }\n",
       "\n",
       "    .colab-df-buttons div {\n",
       "      margin-bottom: 4px;\n",
       "    }\n",
       "\n",
       "    [theme=dark] .colab-df-convert {\n",
       "      background-color: #3B4455;\n",
       "      fill: #D2E3FC;\n",
       "    }\n",
       "\n",
       "    [theme=dark] .colab-df-convert:hover {\n",
       "      background-color: #434B5C;\n",
       "      box-shadow: 0px 1px 3px 1px rgba(0, 0, 0, 0.15);\n",
       "      filter: drop-shadow(0px 1px 2px rgba(0, 0, 0, 0.3));\n",
       "      fill: #FFFFFF;\n",
       "    }\n",
       "  </style>\n",
       "\n",
       "    <script>\n",
       "      const buttonEl =\n",
       "        document.querySelector('#df-878873e5-f44c-435f-905c-2436a501eb5f button.colab-df-convert');\n",
       "      buttonEl.style.display =\n",
       "        google.colab.kernel.accessAllowed ? 'block' : 'none';\n",
       "\n",
       "      async function convertToInteractive(key) {\n",
       "        const element = document.querySelector('#df-878873e5-f44c-435f-905c-2436a501eb5f');\n",
       "        const dataTable =\n",
       "          await google.colab.kernel.invokeFunction('convertToInteractive',\n",
       "                                                    [key], {});\n",
       "        if (!dataTable) return;\n",
       "\n",
       "        const docLinkHtml = 'Like what you see? Visit the ' +\n",
       "          '<a target=\"_blank\" href=https://colab.research.google.com/notebooks/data_table.ipynb>data table notebook</a>'\n",
       "          + ' to learn more about interactive tables.';\n",
       "        element.innerHTML = '';\n",
       "        dataTable['output_type'] = 'display_data';\n",
       "        await google.colab.output.renderOutput(dataTable, element);\n",
       "        const docLink = document.createElement('div');\n",
       "        docLink.innerHTML = docLinkHtml;\n",
       "        element.appendChild(docLink);\n",
       "      }\n",
       "    </script>\n",
       "  </div>\n",
       "\n",
       "\n",
       "<div id=\"df-6d1cc965-6637-46e7-8bff-48319b3a11fe\">\n",
       "  <button class=\"colab-df-quickchart\" onclick=\"quickchart('df-6d1cc965-6637-46e7-8bff-48319b3a11fe')\"\n",
       "            title=\"Suggest charts\"\n",
       "            style=\"display:none;\">\n",
       "\n",
       "<svg xmlns=\"http://www.w3.org/2000/svg\" height=\"24px\"viewBox=\"0 0 24 24\"\n",
       "     width=\"24px\">\n",
       "    <g>\n",
       "        <path d=\"M19 3H5c-1.1 0-2 .9-2 2v14c0 1.1.9 2 2 2h14c1.1 0 2-.9 2-2V5c0-1.1-.9-2-2-2zM9 17H7v-7h2v7zm4 0h-2V7h2v10zm4 0h-2v-4h2v4z\"/>\n",
       "    </g>\n",
       "</svg>\n",
       "  </button>\n",
       "\n",
       "<style>\n",
       "  .colab-df-quickchart {\n",
       "      --bg-color: #E8F0FE;\n",
       "      --fill-color: #1967D2;\n",
       "      --hover-bg-color: #E2EBFA;\n",
       "      --hover-fill-color: #174EA6;\n",
       "      --disabled-fill-color: #AAA;\n",
       "      --disabled-bg-color: #DDD;\n",
       "  }\n",
       "\n",
       "  [theme=dark] .colab-df-quickchart {\n",
       "      --bg-color: #3B4455;\n",
       "      --fill-color: #D2E3FC;\n",
       "      --hover-bg-color: #434B5C;\n",
       "      --hover-fill-color: #FFFFFF;\n",
       "      --disabled-bg-color: #3B4455;\n",
       "      --disabled-fill-color: #666;\n",
       "  }\n",
       "\n",
       "  .colab-df-quickchart {\n",
       "    background-color: var(--bg-color);\n",
       "    border: none;\n",
       "    border-radius: 50%;\n",
       "    cursor: pointer;\n",
       "    display: none;\n",
       "    fill: var(--fill-color);\n",
       "    height: 32px;\n",
       "    padding: 0;\n",
       "    width: 32px;\n",
       "  }\n",
       "\n",
       "  .colab-df-quickchart:hover {\n",
       "    background-color: var(--hover-bg-color);\n",
       "    box-shadow: 0 1px 2px rgba(60, 64, 67, 0.3), 0 1px 3px 1px rgba(60, 64, 67, 0.15);\n",
       "    fill: var(--button-hover-fill-color);\n",
       "  }\n",
       "\n",
       "  .colab-df-quickchart-complete:disabled,\n",
       "  .colab-df-quickchart-complete:disabled:hover {\n",
       "    background-color: var(--disabled-bg-color);\n",
       "    fill: var(--disabled-fill-color);\n",
       "    box-shadow: none;\n",
       "  }\n",
       "\n",
       "  .colab-df-spinner {\n",
       "    border: 2px solid var(--fill-color);\n",
       "    border-color: transparent;\n",
       "    border-bottom-color: var(--fill-color);\n",
       "    animation:\n",
       "      spin 1s steps(1) infinite;\n",
       "  }\n",
       "\n",
       "  @keyframes spin {\n",
       "    0% {\n",
       "      border-color: transparent;\n",
       "      border-bottom-color: var(--fill-color);\n",
       "      border-left-color: var(--fill-color);\n",
       "    }\n",
       "    20% {\n",
       "      border-color: transparent;\n",
       "      border-left-color: var(--fill-color);\n",
       "      border-top-color: var(--fill-color);\n",
       "    }\n",
       "    30% {\n",
       "      border-color: transparent;\n",
       "      border-left-color: var(--fill-color);\n",
       "      border-top-color: var(--fill-color);\n",
       "      border-right-color: var(--fill-color);\n",
       "    }\n",
       "    40% {\n",
       "      border-color: transparent;\n",
       "      border-right-color: var(--fill-color);\n",
       "      border-top-color: var(--fill-color);\n",
       "    }\n",
       "    60% {\n",
       "      border-color: transparent;\n",
       "      border-right-color: var(--fill-color);\n",
       "    }\n",
       "    80% {\n",
       "      border-color: transparent;\n",
       "      border-right-color: var(--fill-color);\n",
       "      border-bottom-color: var(--fill-color);\n",
       "    }\n",
       "    90% {\n",
       "      border-color: transparent;\n",
       "      border-bottom-color: var(--fill-color);\n",
       "    }\n",
       "  }\n",
       "</style>\n",
       "\n",
       "  <script>\n",
       "    async function quickchart(key) {\n",
       "      const quickchartButtonEl =\n",
       "        document.querySelector('#' + key + ' button');\n",
       "      quickchartButtonEl.disabled = true;  // To prevent multiple clicks.\n",
       "      quickchartButtonEl.classList.add('colab-df-spinner');\n",
       "      try {\n",
       "        const charts = await google.colab.kernel.invokeFunction(\n",
       "            'suggestCharts', [key], {});\n",
       "      } catch (error) {\n",
       "        console.error('Error during call to suggestCharts:', error);\n",
       "      }\n",
       "      quickchartButtonEl.classList.remove('colab-df-spinner');\n",
       "      quickchartButtonEl.classList.add('colab-df-quickchart-complete');\n",
       "    }\n",
       "    (() => {\n",
       "      let quickchartButtonEl =\n",
       "        document.querySelector('#df-6d1cc965-6637-46e7-8bff-48319b3a11fe button');\n",
       "      quickchartButtonEl.style.display =\n",
       "        google.colab.kernel.accessAllowed ? 'block' : 'none';\n",
       "    })();\n",
       "  </script>\n",
       "</div>\n",
       "    </div>\n",
       "  </div>\n"
      ],
      "text/plain": [
       "  StockSymbol          Industry                 SubIndustry  Ret2000.01  \\\n",
       "0        AAON  Industrial Goods  General Building Materials    0.080678   \n",
       "1        AAPL    Consumer Goods        Electronic Equipment   -0.010680   \n",
       "2        ABAX        Healthcare       Diagnostic Substances    0.047742   \n",
       "3        ABCB         Financial                    Regional   -0.074040   \n",
       "4        ABFS          Services                    Trucking   -0.031046   \n",
       "\n",
       "   Ret2000.02  Ret2000.03  Ret2000.04  Ret2000.05  Ret2000.06  ret2000.07  \\\n",
       "0    0.066250    0.032941    0.183099    0.130334   -0.017642   -0.020517   \n",
       "1    0.102115    0.145496   -0.084428   -0.327300   -0.359266   -0.025321   \n",
       "2    0.035990    0.039702   -0.162353   -0.147427    0.048589   -0.135385   \n",
       "3   -0.048170    0.018219   -0.024679   -0.006036   -0.025304   -0.094000   \n",
       "4   -0.212677    0.091476    0.189338   -0.153846   -0.106115    0.355301   \n",
       "\n",
       "   ...  Ret2009.04  Ret2009.05  Ret2009.06  Ret2009.07  Ret2009.08  \\\n",
       "0  ...    0.100565    0.067762   -0.045062   -0.025832    0.060976   \n",
       "1  ...    0.208858    0.079571    0.043673    0.138606    0.018159   \n",
       "2  ...   -0.119907    0.162126    0.161108    0.304581    0.001883   \n",
       "3  ...    0.402570   -0.039816   -0.020155    0.004651    0.007812   \n",
       "4  ...    0.227007    0.216357   -0.075114    0.069471    0.112273   \n",
       "\n",
       "   Ret2009.09  Ret2009.10  Ret2009.11  Ret2009.12  clusters  \n",
       "0   -0.039234   -0.101297    0.041804    0.019885         0  \n",
       "1    0.103339    0.016995    0.053267    0.041980         1  \n",
       "2    0.014026   -0.141783   -0.024740    0.134043         2  \n",
       "3    0.122449   -0.170423    0.105351    0.062315         0  \n",
       "4   -0.052831   -0.127703   -0.047582    0.191981         0  \n",
       "\n",
       "[5 rows x 124 columns]"
      ]
     },
     "execution_count": 55,
     "metadata": {},
     "output_type": "execute_result"
    }
   ],
   "source": [
    "df.head()"
   ]
  },
  {
   "cell_type": "code",
   "execution_count": 56,
   "metadata": {
    "colab": {
     "base_uri": "https://localhost:8080/"
    },
    "id": "7co29KNd6_lK",
    "outputId": "1b99443a-53fb-4b80-b731-974401b4654c"
   },
   "outputs": [
    {
     "data": {
      "text/plain": [
       "clusters\n",
       "0    588\n",
       "1    131\n",
       "2    351\n",
       "3     88\n",
       "dtype: int64"
      ]
     },
     "execution_count": 56,
     "metadata": {},
     "output_type": "execute_result"
    }
   ],
   "source": [
    "df.groupby('clusters').size()"
   ]
  },
  {
   "cell_type": "code",
   "execution_count": 57,
   "metadata": {
    "colab": {
     "base_uri": "https://localhost:8080/"
    },
    "id": "lYVFqecZ_f7d",
    "outputId": "30f9ebf1-c80d-4d00-b90b-ac70fb3d99a7"
   },
   "outputs": [
    {
     "data": {
      "text/plain": [
       "Industry\n",
       "Financial            299\n",
       "Services             113\n",
       "Consumer Goods        54\n",
       "Technology            38\n",
       "Healthcare            29\n",
       "Industrial Goods      23\n",
       "Basic Materials       17\n",
       "Utilities             11\n",
       "Conglomerates          2\n",
       "Consumer Cyclical      2\n",
       "dtype: int64"
      ]
     },
     "execution_count": 57,
     "metadata": {},
     "output_type": "execute_result"
    }
   ],
   "source": [
    "df[df['clusters'] == 0].groupby('Industry').size().sort_values(ascending=False)"
   ]
  },
  {
   "cell_type": "code",
   "execution_count": 58,
   "metadata": {
    "colab": {
     "base_uri": "https://localhost:8080/"
    },
    "id": "xmZ3ZH3DA3fT",
    "outputId": "4c601630-9c87-4810-ba28-0a543af741d4"
   },
   "outputs": [
    {
     "data": {
      "text/plain": [
       "SubIndustry\n",
       "Regional                          196\n",
       "Savings & Loans                    51\n",
       "Property & Casualty Insurance      16\n",
       "Restaurants                        11\n",
       "Trucking                           11\n",
       "                                 ... \n",
       "Movie Production, Theaters          1\n",
       "Oil & Gas Equipment & Services      1\n",
       "Oil & Gas Pipelines                 1\n",
       "Paper & Paper Products              1\n",
       "Wireless Communications             1\n",
       "Length: 125, dtype: int64"
      ]
     },
     "execution_count": 58,
     "metadata": {},
     "output_type": "execute_result"
    }
   ],
   "source": [
    "df[df['clusters'] == 0].groupby('SubIndustry').size().sort_values(ascending=False)"
   ]
  },
  {
   "cell_type": "code",
   "execution_count": 59,
   "metadata": {
    "colab": {
     "base_uri": "https://localhost:8080/"
    },
    "id": "4gwjs2ynAX5c",
    "outputId": "17e1a1c1-a48f-41e1-8eef-728aeac2b451"
   },
   "outputs": [
    {
     "data": {
      "text/plain": [
       "Industry\n",
       "Technology          104\n",
       "Services             11\n",
       "Financial             5\n",
       "Healthcare            5\n",
       "Industrial Goods      3\n",
       "Basic Materials       2\n",
       "Consumer Goods        1\n",
       "dtype: int64"
      ]
     },
     "execution_count": 59,
     "metadata": {},
     "output_type": "execute_result"
    }
   ],
   "source": [
    "df[df['clusters'] == 1].groupby('Industry').size().sort_values(ascending=False)"
   ]
  },
  {
   "cell_type": "code",
   "execution_count": 60,
   "metadata": {
    "colab": {
     "base_uri": "https://localhost:8080/"
    },
    "id": "eCb1T_REBTbT",
    "outputId": "f256fbfe-1b55-45fd-e2b9-f59fe8a65f4b"
   },
   "outputs": [
    {
     "data": {
      "text/plain": [
       "SubIndustry\n",
       "Semiconductor                          33\n",
       "Semiconductor Equipment & Materials    14\n",
       "Business Software & Services            8\n",
       "Communication Equipment                 8\n",
       "Scientific & Technical Instruments      7\n",
       "Computer Peripherals                    7\n",
       "Application Software                    6\n",
       "Semiconductor- Memory Chips             4\n",
       "Investment Brokerage                    3\n",
       "Diversified Electronics                 2\n",
       "Medical Appliances & Equipment          2\n",
       "Security Software & Services            2\n",
       "Specialty Retail, Other                 2\n",
       "Data Storage Devices                    2\n",
       "Technical & System Software             2\n",
       "Computer Based Systems                  2\n",
       "CATV Systems                            2\n",
       "Business Services                       2\n",
       "Networking & Communication Devices      2\n",
       "Money Center Banks                      1\n",
       "Steel & Iron                            1\n",
       "Waste Management                        1\n",
       "Research Services                       1\n",
       "Printed Circuit Boards                  1\n",
       "Pollution & Treatment Controls          1\n",
       "Internet Software & Services            1\n",
       "Medical Laboratories & Research         1\n",
       "Management Services                     1\n",
       "Biotechnology                           1\n",
       "Internet Information Providers          1\n",
       "Electronics Wholesale                   1\n",
       "Electronic Equipment                    1\n",
       "Drug Manufacturers                      1\n",
       "Diversified Machinery                   1\n",
       "Diversified Investments                 1\n",
       "Diversified Computer Systems            1\n",
       "Containers &amp; Packaging              1\n",
       "Computers Wholesale                     1\n",
       "Catalog & Mail Order Houses             1\n",
       "Wireless Communications                 1\n",
       "dtype: int64"
      ]
     },
     "execution_count": 60,
     "metadata": {},
     "output_type": "execute_result"
    }
   ],
   "source": [
    "df[df['clusters'] == 1].groupby('SubIndustry').size().sort_values(ascending=False)"
   ]
  },
  {
   "cell_type": "code",
   "execution_count": 61,
   "metadata": {
    "colab": {
     "base_uri": "https://localhost:8080/"
    },
    "id": "fxwY3ZUVAazn",
    "outputId": "4245ff9e-0aa0-47ae-fd47-0dc057a77ecd"
   },
   "outputs": [
    {
     "data": {
      "text/plain": [
       "Industry\n",
       "Technology          101\n",
       "Services             73\n",
       "Healthcare           49\n",
       "Industrial Goods     38\n",
       "Financial            34\n",
       "Basic Materials      31\n",
       "Consumer Goods       24\n",
       "Utilities             1\n",
       "dtype: int64"
      ]
     },
     "execution_count": 61,
     "metadata": {},
     "output_type": "execute_result"
    }
   ],
   "source": [
    "df[df['clusters'] == 2].groupby('Industry').size().sort_values(ascending=False)"
   ]
  },
  {
   "cell_type": "code",
   "execution_count": 84,
   "metadata": {
    "colab": {
     "base_uri": "https://localhost:8080/"
    },
    "id": "nSRubfPJBWJ_",
    "outputId": "a34747ca-ae31-4aa6-e34c-d7e36c5676b7"
   },
   "outputs": [
    {
     "data": {
      "text/plain": [
       "SubIndustry\n",
       "Application Software                  16\n",
       "Independent Oil & Gas                 13\n",
       "Biotechnology                         13\n",
       "Scientific & Technical Instruments    12\n",
       "Business Services                     11\n",
       "                                      ..\n",
       "Medical Equipment Wholesale            1\n",
       "Medical Practitioners                  1\n",
       "Movie Production, Theaters             1\n",
       "Music & Video Stores                   1\n",
       "Life Insurance                         1\n",
       "Length: 106, dtype: int64"
      ]
     },
     "execution_count": 84,
     "metadata": {},
     "output_type": "execute_result"
    }
   ],
   "source": [
    "df[df['clusters'] == 2].groupby('SubIndustry').size().sort_values(ascending=False)"
   ]
  },
  {
   "cell_type": "code",
   "execution_count": 63,
   "metadata": {
    "colab": {
     "base_uri": "https://localhost:8080/"
    },
    "id": "FC6PkfYzAdhD",
    "outputId": "10938eaa-f338-427a-e78f-66bcb06d9799"
   },
   "outputs": [
    {
     "data": {
      "text/plain": [
       "Industry\n",
       "Technology          53\n",
       "Healthcare          28\n",
       "Services             5\n",
       "Consumer Goods       1\n",
       "Industrial Goods     1\n",
       "dtype: int64"
      ]
     },
     "execution_count": 63,
     "metadata": {},
     "output_type": "execute_result"
    }
   ],
   "source": [
    "df[df['clusters'] == 3].groupby('Industry').size().sort_values(ascending=False)"
   ]
  },
  {
   "cell_type": "code",
   "execution_count": 64,
   "metadata": {
    "colab": {
     "base_uri": "https://localhost:8080/"
    },
    "id": "x6ICfNzkBX-o",
    "outputId": "c798eb80-7aac-45fa-a61c-4249ee2febab"
   },
   "outputs": [
    {
     "data": {
      "text/plain": [
       "SubIndustry\n",
       "Biotechnology                          17\n",
       "Application Software                    6\n",
       "Communication Equipment                 6\n",
       "Networking & Communication Devices      5\n",
       "Semiconductor Equipment & Materials     5\n",
       "Semiconductor                           5\n",
       "Medical Instruments & Supplies          4\n",
       "Diversified Electronics                 3\n",
       "Multimedia & Graphics Software          3\n",
       "Internet Software & Services            3\n",
       "Computer Peripherals                    2\n",
       "Data Storage Devices                    2\n",
       "Drug Manufacturers                      2\n",
       "Research Services                       2\n",
       "Business Software & Services            2\n",
       "Semiconductor- Memory Chips             1\n",
       "Technical & System Software             1\n",
       "Security Software & Services            1\n",
       "Scientific & Technical Instruments      1\n",
       "Processing Systems & Products           1\n",
       "Printed Circuit Boards                  1\n",
       "Medical Laboratories & Research         1\n",
       "Information Technology Services         1\n",
       "Medical Appliances & Equipment          1\n",
       "Internet Information Providers          1\n",
       "Auto Parts                              1\n",
       "Industrial Equipment Wholesale          1\n",
       "Industrial Electrical Equipment         1\n",
       "Healthcare Information Services         1\n",
       "Electronics Wholesale                   1\n",
       "Drugs                                   1\n",
       "Drug Delivery                           1\n",
       "Diversified Communication Services      1\n",
       "Diagnostic Substances                   1\n",
       "Catalog & Mail Order Houses             1\n",
       "Wireless Communications                 1\n",
       "dtype: int64"
      ]
     },
     "execution_count": 64,
     "metadata": {},
     "output_type": "execute_result"
    }
   ],
   "source": [
    "df[df['clusters'] == 3].groupby('SubIndustry').size().sort_values(ascending=False)"
   ]
  },
  {
   "cell_type": "code",
   "execution_count": 65,
   "metadata": {
    "colab": {
     "base_uri": "https://localhost:8080/",
     "height": 206
    },
    "id": "iN1_6CLyI5ZQ",
    "outputId": "c0547bac-0202-4fba-82bd-ba2c2c5dbb68"
   },
   "outputs": [
    {
     "data": {
      "text/html": [
       "\n",
       "  <div id=\"df-95ace80c-f4d7-4c0b-84b4-702193db168c\" class=\"colab-df-container\">\n",
       "    <div>\n",
       "<style scoped>\n",
       "    .dataframe tbody tr th:only-of-type {\n",
       "        vertical-align: middle;\n",
       "    }\n",
       "\n",
       "    .dataframe tbody tr th {\n",
       "        vertical-align: top;\n",
       "    }\n",
       "\n",
       "    .dataframe thead th {\n",
       "        text-align: right;\n",
       "    }\n",
       "</style>\n",
       "<table border=\"1\" class=\"dataframe\">\n",
       "  <thead>\n",
       "    <tr style=\"text-align: right;\">\n",
       "      <th></th>\n",
       "      <th>Ret2000.02</th>\n",
       "      <th>Ret2000.03</th>\n",
       "    </tr>\n",
       "    <tr>\n",
       "      <th>clusters</th>\n",
       "      <th></th>\n",
       "      <th></th>\n",
       "    </tr>\n",
       "  </thead>\n",
       "  <tbody>\n",
       "    <tr>\n",
       "      <th>0</th>\n",
       "      <td>-0.023660</td>\n",
       "      <td>0.011428</td>\n",
       "    </tr>\n",
       "    <tr>\n",
       "      <th>1</th>\n",
       "      <td>0.197151</td>\n",
       "      <td>-0.052053</td>\n",
       "    </tr>\n",
       "    <tr>\n",
       "      <th>2</th>\n",
       "      <td>0.113993</td>\n",
       "      <td>-0.002455</td>\n",
       "    </tr>\n",
       "    <tr>\n",
       "      <th>3</th>\n",
       "      <td>1.038105</td>\n",
       "      <td>-0.259350</td>\n",
       "    </tr>\n",
       "  </tbody>\n",
       "</table>\n",
       "</div>\n",
       "    <div class=\"colab-df-buttons\">\n",
       "\n",
       "  <div class=\"colab-df-container\">\n",
       "    <button class=\"colab-df-convert\" onclick=\"convertToInteractive('df-95ace80c-f4d7-4c0b-84b4-702193db168c')\"\n",
       "            title=\"Convert this dataframe to an interactive table.\"\n",
       "            style=\"display:none;\">\n",
       "\n",
       "  <svg xmlns=\"http://www.w3.org/2000/svg\" height=\"24px\" viewBox=\"0 -960 960 960\">\n",
       "    <path d=\"M120-120v-720h720v720H120Zm60-500h600v-160H180v160Zm220 220h160v-160H400v160Zm0 220h160v-160H400v160ZM180-400h160v-160H180v160Zm440 0h160v-160H620v160ZM180-180h160v-160H180v160Zm440 0h160v-160H620v160Z\"/>\n",
       "  </svg>\n",
       "    </button>\n",
       "\n",
       "  <style>\n",
       "    .colab-df-container {\n",
       "      display:flex;\n",
       "      gap: 12px;\n",
       "    }\n",
       "\n",
       "    .colab-df-convert {\n",
       "      background-color: #E8F0FE;\n",
       "      border: none;\n",
       "      border-radius: 50%;\n",
       "      cursor: pointer;\n",
       "      display: none;\n",
       "      fill: #1967D2;\n",
       "      height: 32px;\n",
       "      padding: 0 0 0 0;\n",
       "      width: 32px;\n",
       "    }\n",
       "\n",
       "    .colab-df-convert:hover {\n",
       "      background-color: #E2EBFA;\n",
       "      box-shadow: 0px 1px 2px rgba(60, 64, 67, 0.3), 0px 1px 3px 1px rgba(60, 64, 67, 0.15);\n",
       "      fill: #174EA6;\n",
       "    }\n",
       "\n",
       "    .colab-df-buttons div {\n",
       "      margin-bottom: 4px;\n",
       "    }\n",
       "\n",
       "    [theme=dark] .colab-df-convert {\n",
       "      background-color: #3B4455;\n",
       "      fill: #D2E3FC;\n",
       "    }\n",
       "\n",
       "    [theme=dark] .colab-df-convert:hover {\n",
       "      background-color: #434B5C;\n",
       "      box-shadow: 0px 1px 3px 1px rgba(0, 0, 0, 0.15);\n",
       "      filter: drop-shadow(0px 1px 2px rgba(0, 0, 0, 0.3));\n",
       "      fill: #FFFFFF;\n",
       "    }\n",
       "  </style>\n",
       "\n",
       "    <script>\n",
       "      const buttonEl =\n",
       "        document.querySelector('#df-95ace80c-f4d7-4c0b-84b4-702193db168c button.colab-df-convert');\n",
       "      buttonEl.style.display =\n",
       "        google.colab.kernel.accessAllowed ? 'block' : 'none';\n",
       "\n",
       "      async function convertToInteractive(key) {\n",
       "        const element = document.querySelector('#df-95ace80c-f4d7-4c0b-84b4-702193db168c');\n",
       "        const dataTable =\n",
       "          await google.colab.kernel.invokeFunction('convertToInteractive',\n",
       "                                                    [key], {});\n",
       "        if (!dataTable) return;\n",
       "\n",
       "        const docLinkHtml = 'Like what you see? Visit the ' +\n",
       "          '<a target=\"_blank\" href=https://colab.research.google.com/notebooks/data_table.ipynb>data table notebook</a>'\n",
       "          + ' to learn more about interactive tables.';\n",
       "        element.innerHTML = '';\n",
       "        dataTable['output_type'] = 'display_data';\n",
       "        await google.colab.output.renderOutput(dataTable, element);\n",
       "        const docLink = document.createElement('div');\n",
       "        docLink.innerHTML = docLinkHtml;\n",
       "        element.appendChild(docLink);\n",
       "      }\n",
       "    </script>\n",
       "  </div>\n",
       "\n",
       "\n",
       "<div id=\"df-0a1047cd-49d1-43c8-b334-a3c5d560969f\">\n",
       "  <button class=\"colab-df-quickchart\" onclick=\"quickchart('df-0a1047cd-49d1-43c8-b334-a3c5d560969f')\"\n",
       "            title=\"Suggest charts\"\n",
       "            style=\"display:none;\">\n",
       "\n",
       "<svg xmlns=\"http://www.w3.org/2000/svg\" height=\"24px\"viewBox=\"0 0 24 24\"\n",
       "     width=\"24px\">\n",
       "    <g>\n",
       "        <path d=\"M19 3H5c-1.1 0-2 .9-2 2v14c0 1.1.9 2 2 2h14c1.1 0 2-.9 2-2V5c0-1.1-.9-2-2-2zM9 17H7v-7h2v7zm4 0h-2V7h2v10zm4 0h-2v-4h2v4z\"/>\n",
       "    </g>\n",
       "</svg>\n",
       "  </button>\n",
       "\n",
       "<style>\n",
       "  .colab-df-quickchart {\n",
       "      --bg-color: #E8F0FE;\n",
       "      --fill-color: #1967D2;\n",
       "      --hover-bg-color: #E2EBFA;\n",
       "      --hover-fill-color: #174EA6;\n",
       "      --disabled-fill-color: #AAA;\n",
       "      --disabled-bg-color: #DDD;\n",
       "  }\n",
       "\n",
       "  [theme=dark] .colab-df-quickchart {\n",
       "      --bg-color: #3B4455;\n",
       "      --fill-color: #D2E3FC;\n",
       "      --hover-bg-color: #434B5C;\n",
       "      --hover-fill-color: #FFFFFF;\n",
       "      --disabled-bg-color: #3B4455;\n",
       "      --disabled-fill-color: #666;\n",
       "  }\n",
       "\n",
       "  .colab-df-quickchart {\n",
       "    background-color: var(--bg-color);\n",
       "    border: none;\n",
       "    border-radius: 50%;\n",
       "    cursor: pointer;\n",
       "    display: none;\n",
       "    fill: var(--fill-color);\n",
       "    height: 32px;\n",
       "    padding: 0;\n",
       "    width: 32px;\n",
       "  }\n",
       "\n",
       "  .colab-df-quickchart:hover {\n",
       "    background-color: var(--hover-bg-color);\n",
       "    box-shadow: 0 1px 2px rgba(60, 64, 67, 0.3), 0 1px 3px 1px rgba(60, 64, 67, 0.15);\n",
       "    fill: var(--button-hover-fill-color);\n",
       "  }\n",
       "\n",
       "  .colab-df-quickchart-complete:disabled,\n",
       "  .colab-df-quickchart-complete:disabled:hover {\n",
       "    background-color: var(--disabled-bg-color);\n",
       "    fill: var(--disabled-fill-color);\n",
       "    box-shadow: none;\n",
       "  }\n",
       "\n",
       "  .colab-df-spinner {\n",
       "    border: 2px solid var(--fill-color);\n",
       "    border-color: transparent;\n",
       "    border-bottom-color: var(--fill-color);\n",
       "    animation:\n",
       "      spin 1s steps(1) infinite;\n",
       "  }\n",
       "\n",
       "  @keyframes spin {\n",
       "    0% {\n",
       "      border-color: transparent;\n",
       "      border-bottom-color: var(--fill-color);\n",
       "      border-left-color: var(--fill-color);\n",
       "    }\n",
       "    20% {\n",
       "      border-color: transparent;\n",
       "      border-left-color: var(--fill-color);\n",
       "      border-top-color: var(--fill-color);\n",
       "    }\n",
       "    30% {\n",
       "      border-color: transparent;\n",
       "      border-left-color: var(--fill-color);\n",
       "      border-top-color: var(--fill-color);\n",
       "      border-right-color: var(--fill-color);\n",
       "    }\n",
       "    40% {\n",
       "      border-color: transparent;\n",
       "      border-right-color: var(--fill-color);\n",
       "      border-top-color: var(--fill-color);\n",
       "    }\n",
       "    60% {\n",
       "      border-color: transparent;\n",
       "      border-right-color: var(--fill-color);\n",
       "    }\n",
       "    80% {\n",
       "      border-color: transparent;\n",
       "      border-right-color: var(--fill-color);\n",
       "      border-bottom-color: var(--fill-color);\n",
       "    }\n",
       "    90% {\n",
       "      border-color: transparent;\n",
       "      border-bottom-color: var(--fill-color);\n",
       "    }\n",
       "  }\n",
       "</style>\n",
       "\n",
       "  <script>\n",
       "    async function quickchart(key) {\n",
       "      const quickchartButtonEl =\n",
       "        document.querySelector('#' + key + ' button');\n",
       "      quickchartButtonEl.disabled = true;  // To prevent multiple clicks.\n",
       "      quickchartButtonEl.classList.add('colab-df-spinner');\n",
       "      try {\n",
       "        const charts = await google.colab.kernel.invokeFunction(\n",
       "            'suggestCharts', [key], {});\n",
       "      } catch (error) {\n",
       "        console.error('Error during call to suggestCharts:', error);\n",
       "      }\n",
       "      quickchartButtonEl.classList.remove('colab-df-spinner');\n",
       "      quickchartButtonEl.classList.add('colab-df-quickchart-complete');\n",
       "    }\n",
       "    (() => {\n",
       "      let quickchartButtonEl =\n",
       "        document.querySelector('#df-0a1047cd-49d1-43c8-b334-a3c5d560969f button');\n",
       "      quickchartButtonEl.style.display =\n",
       "        google.colab.kernel.accessAllowed ? 'block' : 'none';\n",
       "    })();\n",
       "  </script>\n",
       "</div>\n",
       "    </div>\n",
       "  </div>\n"
      ],
      "text/plain": [
       "          Ret2000.02  Ret2000.03\n",
       "clusters                        \n",
       "0          -0.023660    0.011428\n",
       "1           0.197151   -0.052053\n",
       "2           0.113993   -0.002455\n",
       "3           1.038105   -0.259350"
      ]
     },
     "execution_count": 65,
     "metadata": {},
     "output_type": "execute_result"
    }
   ],
   "source": [
    "df.groupby('clusters')[['Ret2000.02','Ret2000.03']].mean()"
   ]
  },
  {
   "cell_type": "code",
   "execution_count": 66,
   "metadata": {
    "colab": {
     "base_uri": "https://localhost:8080/",
     "height": 130
    },
    "id": "jyXVOPclJMvx",
    "outputId": "71cad14b-5296-43b9-eb56-3350ce74b794"
   },
   "outputs": [
    {
     "name": "stderr",
     "output_type": "stream",
     "text": [
      "/usr/local/lib/python3.10/dist-packages/sklearn/cluster/_kmeans.py:870: FutureWarning: The default value of `n_init` will change from 10 to 'auto' in 1.4. Set the value of `n_init` explicitly to suppress the warning\n",
      "  warnings.warn(\n"
     ]
    },
    {
     "data": {
      "text/html": [
       "<style>#sk-container-id-1 {color: black;background-color: white;}#sk-container-id-1 pre{padding: 0;}#sk-container-id-1 div.sk-toggleable {background-color: white;}#sk-container-id-1 label.sk-toggleable__label {cursor: pointer;display: block;width: 100%;margin-bottom: 0;padding: 0.3em;box-sizing: border-box;text-align: center;}#sk-container-id-1 label.sk-toggleable__label-arrow:before {content: \"▸\";float: left;margin-right: 0.25em;color: #696969;}#sk-container-id-1 label.sk-toggleable__label-arrow:hover:before {color: black;}#sk-container-id-1 div.sk-estimator:hover label.sk-toggleable__label-arrow:before {color: black;}#sk-container-id-1 div.sk-toggleable__content {max-height: 0;max-width: 0;overflow: hidden;text-align: left;background-color: #f0f8ff;}#sk-container-id-1 div.sk-toggleable__content pre {margin: 0.2em;color: black;border-radius: 0.25em;background-color: #f0f8ff;}#sk-container-id-1 input.sk-toggleable__control:checked~div.sk-toggleable__content {max-height: 200px;max-width: 100%;overflow: auto;}#sk-container-id-1 input.sk-toggleable__control:checked~label.sk-toggleable__label-arrow:before {content: \"▾\";}#sk-container-id-1 div.sk-estimator input.sk-toggleable__control:checked~label.sk-toggleable__label {background-color: #d4ebff;}#sk-container-id-1 div.sk-label input.sk-toggleable__control:checked~label.sk-toggleable__label {background-color: #d4ebff;}#sk-container-id-1 input.sk-hidden--visually {border: 0;clip: rect(1px 1px 1px 1px);clip: rect(1px, 1px, 1px, 1px);height: 1px;margin: -1px;overflow: hidden;padding: 0;position: absolute;width: 1px;}#sk-container-id-1 div.sk-estimator {font-family: monospace;background-color: #f0f8ff;border: 1px dotted black;border-radius: 0.25em;box-sizing: border-box;margin-bottom: 0.5em;}#sk-container-id-1 div.sk-estimator:hover {background-color: #d4ebff;}#sk-container-id-1 div.sk-parallel-item::after {content: \"\";width: 100%;border-bottom: 1px solid gray;flex-grow: 1;}#sk-container-id-1 div.sk-label:hover label.sk-toggleable__label {background-color: #d4ebff;}#sk-container-id-1 div.sk-serial::before {content: \"\";position: absolute;border-left: 1px solid gray;box-sizing: border-box;top: 0;bottom: 0;left: 50%;z-index: 0;}#sk-container-id-1 div.sk-serial {display: flex;flex-direction: column;align-items: center;background-color: white;padding-right: 0.2em;padding-left: 0.2em;position: relative;}#sk-container-id-1 div.sk-item {position: relative;z-index: 1;}#sk-container-id-1 div.sk-parallel {display: flex;align-items: stretch;justify-content: center;background-color: white;position: relative;}#sk-container-id-1 div.sk-item::before, #sk-container-id-1 div.sk-parallel-item::before {content: \"\";position: absolute;border-left: 1px solid gray;box-sizing: border-box;top: 0;bottom: 0;left: 50%;z-index: -1;}#sk-container-id-1 div.sk-parallel-item {display: flex;flex-direction: column;z-index: 1;position: relative;background-color: white;}#sk-container-id-1 div.sk-parallel-item:first-child::after {align-self: flex-end;width: 50%;}#sk-container-id-1 div.sk-parallel-item:last-child::after {align-self: flex-start;width: 50%;}#sk-container-id-1 div.sk-parallel-item:only-child::after {width: 0;}#sk-container-id-1 div.sk-dashed-wrapped {border: 1px dashed gray;margin: 0 0.4em 0.5em 0.4em;box-sizing: border-box;padding-bottom: 0.4em;background-color: white;}#sk-container-id-1 div.sk-label label {font-family: monospace;font-weight: bold;display: inline-block;line-height: 1.2em;}#sk-container-id-1 div.sk-label-container {text-align: center;}#sk-container-id-1 div.sk-container {/* jupyter's `normalize.less` sets `[hidden] { display: none; }` but bootstrap.min.css set `[hidden] { display: none !important; }` so we also need the `!important` here to be able to override the default hidden behavior on the sphinx rendered scikit-learn.org. See: https://github.com/scikit-learn/scikit-learn/issues/21755 */display: inline-block !important;position: relative;}#sk-container-id-1 div.sk-text-repr-fallback {display: none;}</style><div id=\"sk-container-id-1\" class=\"sk-top-container\"><div class=\"sk-text-repr-fallback\"><pre>KMeans(n_clusters=4, random_state=42)</pre><b>In a Jupyter environment, please rerun this cell to show the HTML representation or trust the notebook. <br />On GitHub, the HTML representation is unable to render, please try loading this page with nbviewer.org.</b></div><div class=\"sk-container\" hidden><div class=\"sk-item\"><div class=\"sk-estimator sk-toggleable\"><input class=\"sk-toggleable__control sk-hidden--visually\" id=\"sk-estimator-id-1\" type=\"checkbox\" checked><label for=\"sk-estimator-id-1\" class=\"sk-toggleable__label sk-toggleable__label-arrow\">KMeans</label><div class=\"sk-toggleable__content\"><pre>KMeans(n_clusters=4, random_state=42)</pre></div></div></div></div></div>"
      ],
      "text/plain": [
       "KMeans(n_clusters=4, random_state=42)"
      ]
     },
     "execution_count": 66,
     "metadata": {},
     "output_type": "execute_result"
    }
   ],
   "source": [
    "from sklearn.cluster import KMeans\n",
    "kmeans = KMeans(n_clusters = 4,random_state=42)\n",
    "kmeans.fit(df_cluster)"
   ]
  },
  {
   "cell_type": "code",
   "execution_count": 67,
   "metadata": {
    "id": "z1vL9XWIJ5Zi"
   },
   "outputs": [],
   "source": [
    "df['clusters_kmeans'] = kmeans.predict(df_cluster)"
   ]
  },
  {
   "cell_type": "code",
   "execution_count": 68,
   "metadata": {
    "colab": {
     "base_uri": "https://localhost:8080/"
    },
    "id": "QEJI-8yOKZ1i",
    "outputId": "99324204-bd34-4d10-a636-052d644d9c96"
   },
   "outputs": [
    {
     "data": {
      "text/plain": [
       "clusters_kmeans\n",
       "0    535\n",
       "1    185\n",
       "2     90\n",
       "3    348\n",
       "dtype: int64"
      ]
     },
     "execution_count": 68,
     "metadata": {},
     "output_type": "execute_result"
    }
   ],
   "source": [
    "df.groupby('clusters_kmeans').size()"
   ]
  },
  {
   "cell_type": "code",
   "execution_count": 69,
   "metadata": {
    "colab": {
     "base_uri": "https://localhost:8080/"
    },
    "id": "GAODzRjHLOi5",
    "outputId": "7c6d675c-b889-4dd1-f71f-321986188e3a"
   },
   "outputs": [
    {
     "data": {
      "text/plain": [
       "Industry\n",
       "Financial            305\n",
       "Services              96\n",
       "Consumer Goods        39\n",
       "Technology            29\n",
       "Healthcare            27\n",
       "Industrial Goods      17\n",
       "Basic Materials       11\n",
       "Utilities             10\n",
       "Consumer Cyclical      1\n",
       "dtype: int64"
      ]
     },
     "execution_count": 69,
     "metadata": {},
     "output_type": "execute_result"
    }
   ],
   "source": [
    "df[df['clusters_kmeans'] == 0].groupby('Industry').size().sort_values(ascending=False)"
   ]
  },
  {
   "cell_type": "code",
   "execution_count": 70,
   "metadata": {
    "colab": {
     "base_uri": "https://localhost:8080/"
    },
    "id": "6WzRBHZxLYGG",
    "outputId": "fc42c39f-ec02-4306-f578-16ec922d4d9a"
   },
   "outputs": [
    {
     "data": {
      "text/plain": [
       "SubIndustry\n",
       "Regional                          201\n",
       "Savings & Loans                    55\n",
       "Property & Casualty Insurance      14\n",
       "Trucking                           10\n",
       "Restaurants                         9\n",
       "                                 ... \n",
       "Pollution & Treatment Controls      1\n",
       "Printed Circuit Boards              1\n",
       "Drugs                               1\n",
       "Independent Oil & Gas               1\n",
       "Wireless Communications             1\n",
       "Length: 112, dtype: int64"
      ]
     },
     "execution_count": 70,
     "metadata": {},
     "output_type": "execute_result"
    }
   ],
   "source": [
    "df[df['clusters_kmeans'] == 0].groupby('SubIndustry').size().sort_values(ascending=False)"
   ]
  },
  {
   "cell_type": "code",
   "execution_count": 71,
   "metadata": {
    "colab": {
     "base_uri": "https://localhost:8080/"
    },
    "id": "kFkXY_HvLRE3",
    "outputId": "c9ab88d1-37ba-4407-e4d5-bfc14529ab50"
   },
   "outputs": [
    {
     "data": {
      "text/plain": [
       "Industry\n",
       "Technology          143\n",
       "Services             19\n",
       "Healthcare           10\n",
       "Financial             7\n",
       "Industrial Goods      3\n",
       "Consumer Goods        2\n",
       "Basic Materials       1\n",
       "dtype: int64"
      ]
     },
     "execution_count": 71,
     "metadata": {},
     "output_type": "execute_result"
    }
   ],
   "source": [
    "df[df['clusters_kmeans'] == 1].groupby('Industry').size().sort_values(ascending=False)"
   ]
  },
  {
   "cell_type": "code",
   "execution_count": 72,
   "metadata": {
    "colab": {
     "base_uri": "https://localhost:8080/"
    },
    "id": "pbrfmvORLb0m",
    "outputId": "d3150f5f-a914-418c-a35c-c7df4b648c4d"
   },
   "outputs": [
    {
     "data": {
      "text/plain": [
       "SubIndustry\n",
       "Semiconductor                          36\n",
       "Application Software                   15\n",
       "Semiconductor Equipment & Materials    14\n",
       "Scientific & Technical Instruments     12\n",
       "Business Software & Services           10\n",
       "Communication Equipment                 9\n",
       "Computer Peripherals                    6\n",
       "Networking & Communication Devices      5\n",
       "Technical & System Software             5\n",
       "Investment Brokerage                    4\n",
       "Semiconductor- Memory Chips             4\n",
       "Diversified Electronics                 4\n",
       "Electronics Wholesale                   3\n",
       "Multimedia & Graphics Software          3\n",
       "Wireless Communications                 3\n",
       "Research Services                       3\n",
       "Specialty Retail, Other                 3\n",
       "Biotechnology                           3\n",
       "Internet Software & Services            3\n",
       "Printed Circuit Boards                  2\n",
       "Security Software & Services            2\n",
       "Medical Instruments & Supplies          2\n",
       "Medical Appliances & Equipment          2\n",
       "Management Services                     2\n",
       "Information Technology Services         2\n",
       "Industrial Electrical Equipment         2\n",
       "Drug Manufacturers                      2\n",
       "Business Services                       2\n",
       "Data Storage Devices                    2\n",
       "Computer Based Systems                  2\n",
       "Internet Information Providers          1\n",
       "Containers &amp; Packaging              1\n",
       "Toys & Games                            1\n",
       "Broadcasting                            1\n",
       "CATV Systems                            1\n",
       "Catalog & Mail Order Houses             1\n",
       "Closed-End Fund                         1\n",
       "Computers Wholesale                     1\n",
       "Printing &amp; Publishing               1\n",
       "Property & Casualty Insurance           1\n",
       "Internet Service Providers              1\n",
       "Personal Computers                      1\n",
       "Diagnostic Substances                   1\n",
       "Diversified Computer Systems            1\n",
       "Diversified Machinery                   1\n",
       "Electronic Equipment                    1\n",
       "Gaming Activities                       1\n",
       "Accident & Health Insurance             1\n",
       "dtype: int64"
      ]
     },
     "execution_count": 72,
     "metadata": {},
     "output_type": "execute_result"
    }
   ],
   "source": [
    "df[df['clusters_kmeans'] == 1].groupby('SubIndustry').size().sort_values(ascending=False)"
   ]
  },
  {
   "cell_type": "code",
   "execution_count": 73,
   "metadata": {
    "colab": {
     "base_uri": "https://localhost:8080/"
    },
    "id": "uUx4v0VbLT9O",
    "outputId": "bf4684f6-2be2-4a22-edd4-ddb12cc43282"
   },
   "outputs": [
    {
     "data": {
      "text/plain": [
       "Industry\n",
       "Technology          48\n",
       "Healthcare          33\n",
       "Services             4\n",
       "Industrial Goods     2\n",
       "Consumer Goods       1\n",
       "Financial            1\n",
       "Utilities            1\n",
       "dtype: int64"
      ]
     },
     "execution_count": 73,
     "metadata": {},
     "output_type": "execute_result"
    }
   ],
   "source": [
    "df[df['clusters_kmeans'] == 2].groupby('Industry').size().sort_values(ascending=False)"
   ]
  },
  {
   "cell_type": "code",
   "execution_count": 74,
   "metadata": {
    "colab": {
     "base_uri": "https://localhost:8080/"
    },
    "id": "YqU2p1kaLfW7",
    "outputId": "d6d82fab-ee75-4fd7-e99e-5cc80f659be3"
   },
   "outputs": [
    {
     "data": {
      "text/plain": [
       "SubIndustry\n",
       "Biotechnology                          23\n",
       "Communication Equipment                 8\n",
       "Application Software                    7\n",
       "Semiconductor Equipment & Materials     5\n",
       "Semiconductor                           5\n",
       "Networking & Communication Devices      4\n",
       "Computer Peripherals                    3\n",
       "Diversified Electronics                 3\n",
       "Internet Software & Services            2\n",
       "Scientific & Technical Instruments      2\n",
       "Research Services                       2\n",
       "Medical Instruments & Supplies          2\n",
       "Medical Appliances & Equipment          2\n",
       "Industrial Electrical Equipment         2\n",
       "Data Storage Devices                    2\n",
       "Diagnostic Substances                   2\n",
       "Drug Manufacturers                      1\n",
       "Drugs                                   1\n",
       "Semiconductor- Memory Chips             1\n",
       "Business Software & Services            1\n",
       "Catalog & Mail Order Houses             1\n",
       "Security Software & Services            1\n",
       "Processing Systems & Products           1\n",
       "Diversified Communication Services      1\n",
       "Medical Laboratories & Research         1\n",
       "Diversified Investments                 1\n",
       "Diversified Utilities                   1\n",
       "Drug Delivery                           1\n",
       "Internet Information Providers          1\n",
       "Industrial Equipment Wholesale          1\n",
       "Auto Parts                              1\n",
       "Technical & System Software             1\n",
       "dtype: int64"
      ]
     },
     "execution_count": 74,
     "metadata": {},
     "output_type": "execute_result"
    }
   ],
   "source": [
    "df[df['clusters_kmeans'] == 2].groupby('SubIndustry').size().sort_values(ascending=False)"
   ]
  },
  {
   "cell_type": "code",
   "execution_count": 75,
   "metadata": {
    "colab": {
     "base_uri": "https://localhost:8080/"
    },
    "id": "txMgoI_OLV0w",
    "outputId": "c0169b6b-2a89-4958-9f70-cf389a652842"
   },
   "outputs": [
    {
     "data": {
      "text/plain": [
       "Industry\n",
       "Services             83\n",
       "Technology           76\n",
       "Industrial Goods     43\n",
       "Healthcare           41\n",
       "Basic Materials      38\n",
       "Consumer Goods       38\n",
       "Financial            25\n",
       "Conglomerates         2\n",
       "Consumer Cyclical     1\n",
       "Utilities             1\n",
       "dtype: int64"
      ]
     },
     "execution_count": 75,
     "metadata": {},
     "output_type": "execute_result"
    }
   ],
   "source": [
    "df[df['clusters_kmeans'] == 3].groupby('Industry').size().sort_values(ascending=False)"
   ]
  },
  {
   "cell_type": "code",
   "execution_count": 76,
   "metadata": {
    "colab": {
     "base_uri": "https://localhost:8080/"
    },
    "id": "CMY3f69QLhN6",
    "outputId": "d2302dbc-280e-49d8-a6c8-7cb505e05be4"
   },
   "outputs": [
    {
     "data": {
      "text/plain": [
       "SubIndustry\n",
       "Independent Oil & Gas                13\n",
       "Business Services                    11\n",
       "Diversified Machinery                10\n",
       "Information Technology Services       9\n",
       "Restaurants                           9\n",
       "                                     ..\n",
       "Medical Practitioners                 1\n",
       "Movie Production, Theaters            1\n",
       "Music & Video Stores                  1\n",
       "Photographic Equipment & Supplies     1\n",
       "Wireless Communications               1\n",
       "Length: 113, dtype: int64"
      ]
     },
     "execution_count": 76,
     "metadata": {},
     "output_type": "execute_result"
    }
   ],
   "source": [
    "df[df['clusters_kmeans'] == 3].groupby('SubIndustry').size().sort_values(ascending=False)"
   ]
  },
  {
   "cell_type": "markdown",
   "metadata": {
    "id": "fuoezr4ckTQn"
   },
   "source": [
    "# Insights"
   ]
  },
  {
   "cell_type": "markdown",
   "metadata": {
    "id": "CElpEGJzkWju"
   },
   "source": [
    "i) It is valid not to normalize data because the values are all in percentages which means they are in the same scale.\n",
    "\n",
    "ii) Initially, I chose 11 clusters since the cluster separation was reasonably clear at a lower vertical line height according to the dendrogram. Even 6 clusters might be a reasonable choice just based on the dendrogram.\n",
    "\n",
    "However, all clusters except 4 had just one or two datapoints and unbalanced cluster sizes are not ideal to draw useful insights. Hence, I chose 4 clusters even though the vertical line height is higher in the dendrogram for that number.\n",
    "\n",
    "iii) First cluster has 588 stocks, Second has 131, third has 351 and fourth has 88 stocks.\n",
    "\n",
    "First cluster predominantly consists of stocks in the Financial Industry with Regional and Savings and loan being the top sub-industries.\n",
    "\n",
    "Second cluster predominantly consists of stocks in the Technology Industry with Semiconductor being the top sub-industry.\n",
    "\n",
    "Third cluster predominantly consists of stocks in the Technology Industry with Services Industry having a significant presence as well. Application software is the most featured sub-industry with Business services and Independent oil and gas not far behind.\n",
    "\n",
    "Fourth cluster predominantly consists of stocks in the Technology and Healthcare Industry with Biotechnology being the most featured sub-industry.\n",
    "\n",
    "iv) For Feb 2000, the first cluster has negative average return. Whereas for March 2000, second, third, and fourth clusters have a negative average return.\n",
    "\n",
    "v) The clusters in k-means and hierarchical clustering are more or less similar with some distinctions. The make up of fourth cluster in hierarchical is similar to the third cluster in k-means whereas there are minor difference between third cluster of hierarchical and fourth cluster in k-means. The top industry is Technology followed by Services in the third cluster of hierarchical clustering, whereas it is Services followed by Technology in the fourth cluster of k-means."
   ]
  },
  {
   "cell_type": "markdown",
   "metadata": {
    "id": "avhZP5Br2xVS"
   },
   "source": [
    "# Section C"
   ]
  },
  {
   "cell_type": "code",
   "execution_count": 85,
   "metadata": {
    "colab": {
     "base_uri": "https://localhost:8080/"
    },
    "id": "UJP4PaYv4LXz",
    "outputId": "59f4b81e-8aad-408a-e39c-ebedcff8180d"
   },
   "outputs": [
    {
     "name": "stdout",
     "output_type": "stream",
     "text": [
      "First cluster average return over the complete period:  0.006143887716354874\n",
      "Second cluster average return over the complete period:  0.010419559001717555\n",
      "Third cluster average return over the complete period:  0.015526939383760688\n",
      "Fourth cluster average return over the complete period:  0.01629513526145833\n"
     ]
    },
    {
     "name": "stderr",
     "output_type": "stream",
     "text": [
      "<ipython-input-85-9c8d43bb94c4>:1: FutureWarning: The default value of numeric_only in DataFrame.mean is deprecated. In a future version, it will default to False. In addition, specifying 'numeric_only=None' is deprecated. Select only valid columns or specify the value of numeric_only to silence this warning.\n",
      "  print(\"First cluster average return over the complete period: \",df.iloc[:,:-2][df['clusters'] == 0].mean().mean())\n",
      "<ipython-input-85-9c8d43bb94c4>:2: FutureWarning: The default value of numeric_only in DataFrame.mean is deprecated. In a future version, it will default to False. In addition, specifying 'numeric_only=None' is deprecated. Select only valid columns or specify the value of numeric_only to silence this warning.\n",
      "  print(\"Second cluster average return over the complete period: \",df.iloc[:,:-2][df['clusters'] == 1].mean().mean())\n",
      "<ipython-input-85-9c8d43bb94c4>:3: FutureWarning: The default value of numeric_only in DataFrame.mean is deprecated. In a future version, it will default to False. In addition, specifying 'numeric_only=None' is deprecated. Select only valid columns or specify the value of numeric_only to silence this warning.\n",
      "  print(\"Third cluster average return over the complete period: \",df.iloc[:,:-2][df['clusters'] == 2].mean().mean())\n",
      "<ipython-input-85-9c8d43bb94c4>:4: FutureWarning: The default value of numeric_only in DataFrame.mean is deprecated. In a future version, it will default to False. In addition, specifying 'numeric_only=None' is deprecated. Select only valid columns or specify the value of numeric_only to silence this warning.\n",
      "  print(\"Fourth cluster average return over the complete period: \",df.iloc[:,:-2][df['clusters'] == 3].mean().mean())\n"
     ]
    }
   ],
   "source": [
    "print(\"First cluster average return over the complete period: \",df.iloc[:,:-2][df['clusters'] == 0].mean().mean())\n",
    "print(\"Second cluster average return over the complete period: \",df.iloc[:,:-2][df['clusters'] == 1].mean().mean())\n",
    "print(\"Third cluster average return over the complete period: \",df.iloc[:,:-2][df['clusters'] == 2].mean().mean())\n",
    "print(\"Fourth cluster average return over the complete period: \",df.iloc[:,:-2][df['clusters'] == 3].mean().mean())"
   ]
  },
  {
   "cell_type": "code",
   "execution_count": 86,
   "metadata": {
    "colab": {
     "base_uri": "https://localhost:8080/"
    },
    "id": "ImhLThuS7LrC",
    "outputId": "0c0ebffc-3d0d-4103-e5ee-52806f6d65f2"
   },
   "outputs": [
    {
     "name": "stdout",
     "output_type": "stream",
     "text": [
      "First cluster (K-means) average return over the complete period:  0.0051172777020560755\n",
      "Second cluster (K-means) average return over the complete period:  0.009163261705090091\n",
      "Third cluster (K-means) average return over the complete period:  0.017829954985277775\n",
      "Fourth cluster (K-means) average return over the complete period:  0.016735209478256706\n"
     ]
    },
    {
     "name": "stderr",
     "output_type": "stream",
     "text": [
      "<ipython-input-86-049997a75a06>:1: FutureWarning: The default value of numeric_only in DataFrame.mean is deprecated. In a future version, it will default to False. In addition, specifying 'numeric_only=None' is deprecated. Select only valid columns or specify the value of numeric_only to silence this warning.\n",
      "  print(\"First cluster (K-means) average return over the complete period: \",df.iloc[:,:-2][df['clusters_kmeans'] == 0].mean().mean())\n",
      "<ipython-input-86-049997a75a06>:2: FutureWarning: The default value of numeric_only in DataFrame.mean is deprecated. In a future version, it will default to False. In addition, specifying 'numeric_only=None' is deprecated. Select only valid columns or specify the value of numeric_only to silence this warning.\n",
      "  print(\"Second cluster (K-means) average return over the complete period: \",df.iloc[:,:-2][df['clusters_kmeans'] == 1].mean().mean())\n",
      "<ipython-input-86-049997a75a06>:3: FutureWarning: The default value of numeric_only in DataFrame.mean is deprecated. In a future version, it will default to False. In addition, specifying 'numeric_only=None' is deprecated. Select only valid columns or specify the value of numeric_only to silence this warning.\n",
      "  print(\"Third cluster (K-means) average return over the complete period: \",df.iloc[:,:-2][df['clusters_kmeans'] == 2].mean().mean())\n",
      "<ipython-input-86-049997a75a06>:4: FutureWarning: The default value of numeric_only in DataFrame.mean is deprecated. In a future version, it will default to False. In addition, specifying 'numeric_only=None' is deprecated. Select only valid columns or specify the value of numeric_only to silence this warning.\n",
      "  print(\"Fourth cluster (K-means) average return over the complete period: \",df.iloc[:,:-2][df['clusters_kmeans'] == 3].mean().mean())\n"
     ]
    }
   ],
   "source": [
    "print(\"First cluster (K-means) average return over the complete period: \",df.iloc[:,:-2][df['clusters_kmeans'] == 0].mean().mean())\n",
    "print(\"Second cluster (K-means) average return over the complete period: \",df.iloc[:,:-2][df['clusters_kmeans'] == 1].mean().mean())\n",
    "print(\"Third cluster (K-means) average return over the complete period: \",df.iloc[:,:-2][df['clusters_kmeans'] == 2].mean().mean())\n",
    "print(\"Fourth cluster (K-means) average return over the complete period: \",df.iloc[:,:-2][df['clusters_kmeans'] == 3].mean().mean())"
   ]
  },
  {
   "cell_type": "code",
   "execution_count": 79,
   "metadata": {
    "id": "mRlDIR7fc6hO"
   },
   "outputs": [],
   "source": [
    "variations_1 = df.iloc[:,3:-2][df['clusters'] == 0].diff(axis=1).abs()\n",
    "average_variation_1 = variations_1.mean(axis=0).mean()\n",
    "\n",
    "variations_2 = df.iloc[:,3:-2][df['clusters'] == 1].diff(axis=1).abs()\n",
    "average_variation_2 = variations_2.mean(axis=0).mean()\n",
    "\n",
    "variations_3 = df.iloc[:,3:-2][df['clusters'] == 2].diff(axis=1).abs()\n",
    "average_variation_3 = variations_3.mean(axis=0).mean()\n",
    "\n",
    "variations_4 = df.iloc[:,3:-2][df['clusters'] == 3].diff(axis=1).abs()\n",
    "average_variation_4 = variations_4.mean(axis=0).mean()"
   ]
  },
  {
   "cell_type": "code",
   "execution_count": 80,
   "metadata": {
    "colab": {
     "base_uri": "https://localhost:8080/"
    },
    "id": "E6iYdcxpdaiK",
    "outputId": "013b70a7-49be-4a18-ddd6-a01c9b2b8e3e"
   },
   "outputs": [
    {
     "name": "stdout",
     "output_type": "stream",
     "text": [
      "Average Variation of cluster 1: 0.10752413829278856\n",
      "Average Variation of cluster 2: 0.1982591615206235\n",
      "Average Variation of cluster 3: 0.17125948595795923\n",
      "Average Variation of cluster 4: 0.21122167823185636\n"
     ]
    }
   ],
   "source": [
    "print(\"Average Variation of cluster 1:\",average_variation_1)\n",
    "print(\"Average Variation of cluster 2:\",average_variation_2)\n",
    "print(\"Average Variation of cluster 3:\",average_variation_3)\n",
    "print(\"Average Variation of cluster 4:\",average_variation_4)"
   ]
  },
  {
   "cell_type": "code",
   "execution_count": 82,
   "metadata": {
    "id": "2-Sku6mmxwsx"
   },
   "outputs": [],
   "source": [
    "variations_k1 = df.iloc[:,3:-2][df['clusters_kmeans'] == 0].diff(axis=1).abs()\n",
    "average_variation_k1 = variations_k1.mean(axis=0).mean()\n",
    "\n",
    "variations_k2 = df.iloc[:,3:-2][df['clusters_kmeans'] == 1].diff(axis=1).abs()\n",
    "average_variation_k2 = variations_k2.mean(axis=0).mean()\n",
    "\n",
    "variations_k3 = df.iloc[:,3:-2][df['clusters_kmeans'] == 2].diff(axis=1).abs()\n",
    "average_variation_k3 = variations_k3.mean(axis=0).mean()\n",
    "\n",
    "variations_k4 = df.iloc[:,3:-2][df['clusters_kmeans'] == 3].diff(axis=1).abs()\n",
    "average_variation_k4 = variations_k4.mean(axis=0).mean()"
   ]
  },
  {
   "cell_type": "code",
   "execution_count": 83,
   "metadata": {
    "colab": {
     "base_uri": "https://localhost:8080/"
    },
    "id": "Ld3Wz5QQyn3z",
    "outputId": "006791be-d455-4f0a-b5ff-d75331c3b498"
   },
   "outputs": [
    {
     "name": "stdout",
     "output_type": "stream",
     "text": [
      "Average Variation of cluster 1 (k-means): 0.10437619404555092\n",
      "Average Variation of cluster 2 (k-means): 0.1906114879034749\n",
      "Average Variation of cluster 3 (k-means): 0.21572261093650794\n",
      "Average Variation of cluster 4 (k-means): 0.16487444445462665\n"
     ]
    }
   ],
   "source": [
    "print(\"Average Variation of cluster 1 (k-means):\",average_variation_k1)\n",
    "print(\"Average Variation of cluster 2 (k-means):\",average_variation_k2)\n",
    "print(\"Average Variation of cluster 3 (k-means):\",average_variation_k3)\n",
    "print(\"Average Variation of cluster 4 (k-means):\",average_variation_k4)"
   ]
  },
  {
   "cell_type": "markdown",
   "metadata": {
    "id": "NtgxirTSD7J5"
   },
   "source": [
    "# Insights"
   ]
  },
  {
   "cell_type": "markdown",
   "metadata": {
    "id": "kfsK0fnbD_rO"
   },
   "source": [
    "While diversifying stocks one should also consider the risk profile of the target audience.\n",
    "\n",
    "Audience with higher risk profile might be better off prioritizing more stocks from cluster 3 of k-means first since it has the highest average return over the complete period even though it has the highest average variation (indicating high volatility) among all clusters. k-means cluster also has a slightly better average return than its hierarchical cluster counterpart\n",
    "\n",
    "Audience with lower risk profile might be better off prioritizing more stocks from cluster 4 of k-means first since the average variation is lower than cluster 3 but the average return is still very close to cluster 3. k-means cluster has a slightly better average return than its hierarchical cluster counterpart\n",
    "\n",
    "Therefore, if we are diversifying portfolio across clusters, stocks with best average returns can be considered from each cluster with the following split. For higher risk profile, 40% of stocks can be from cluster 3 (k-means), 30% from cluster 4 (k-means), 20% from cluster 2 (hierarchical since better average return) and 10% from cluster 1 (hierarchical again due to better average return).\n",
    "\n",
    "For lower risk profile, 40% of stocks can be from cluster 4 (k-means), 30% from cluster 3 (k-means), 20% from cluster 2 (hierarchical since better average return) and 10% from cluster 1 (hierarchical again due to better average return)."
   ]
  }
 ],
 "metadata": {
  "colab": {
   "provenance": [],
   "toc_visible": true
  },
  "kernelspec": {
   "display_name": "Python 3 (ipykernel)",
   "language": "python",
   "name": "python3"
  },
  "language_info": {
   "codemirror_mode": {
    "name": "ipython",
    "version": 3
   },
   "file_extension": ".py",
   "mimetype": "text/x-python",
   "name": "python",
   "nbconvert_exporter": "python",
   "pygments_lexer": "ipython3",
   "version": "3.11.4"
  }
 },
 "nbformat": 4,
 "nbformat_minor": 1
}
